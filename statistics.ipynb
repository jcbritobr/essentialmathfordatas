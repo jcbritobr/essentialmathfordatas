{
 "cells": [
  {
   "cell_type": "markdown",
   "id": "bd1d22f6-de2d-47b6-8491-be3df554ec24",
   "metadata": {},
   "source": [
    "# Statistics"
   ]
  },
  {
   "cell_type": "code",
   "execution_count": 2,
   "id": "d6f2918c-3121-42ec-a2d9-7052b376291d",
   "metadata": {},
   "outputs": [],
   "source": [
    "import matplotlib.pyplot as plt\n",
    "plt.style.use('ggplot')"
   ]
  },
  {
   "cell_type": "markdown",
   "id": "c0ca9f83-a676-450e-98c8-066dc02f692c",
   "metadata": {},
   "source": [
    "### Probability"
   ]
  },
  {
   "cell_type": "code",
   "execution_count": 3,
   "id": "3704506b-4d6c-4cd4-a1b4-51faad0b33b4",
   "metadata": {
    "tags": []
   },
   "outputs": [
    {
     "name": "stdout",
     "output_type": "stream",
     "text": [
      "0.005\n"
     ]
    }
   ],
   "source": [
    "p_cofee_drinker = .65\n",
    "p_cancer = .005\n",
    "p_coffee_drinker_given_cancer = .85\n",
    "p_cancer_given_coffee_drinker = p_coffee_drinker_given_cancer * p_cancer / p_coffee_drinker_given_cancer\n",
    "print(p_cancer_given_coffee_drinker)"
   ]
  },
  {
   "cell_type": "markdown",
   "id": "57606acb-1cbd-482d-94ca-fa9eb3feeb77",
   "metadata": {},
   "source": [
    "### Binomial Distribution"
   ]
  },
  {
   "cell_type": "code",
   "execution_count": 4,
   "id": "b2ed405a-bbda-43c8-9571-4b5119562f3a",
   "metadata": {},
   "outputs": [
    {
     "name": "stdout",
     "output_type": "stream",
     "text": [
      "0 - 9.999999999999978e-11\n",
      "1 - 8.999999999999978e-09\n",
      "2 - 3.6449999999999943e-07\n",
      "3 - 8.747999999999991e-06\n",
      "4 - 0.00013778099999999974\n",
      "5 - 0.0014880347999999982\n",
      "6 - 0.011160260999999996\n",
      "7 - 0.05739562799999997\n",
      "8 - 0.1937102444999998\n",
      "9 - 0.38742048899999976\n",
      "10 - 0.3486784401000001\n"
     ]
    }
   ],
   "source": [
    "from scipy.stats import binom\n",
    "\n",
    "n = 10\n",
    "p = .9\n",
    "\n",
    "for k in range(n + 1):\n",
    "    probability = binom.pmf(k, n, p)\n",
    "    print(f\"{k} - {probability}\")"
   ]
  },
  {
   "cell_type": "markdown",
   "id": "fb6d1b57-9966-4742-811e-80431a29722d",
   "metadata": {},
   "source": [
    "### Beta Distribution"
   ]
  },
  {
   "cell_type": "code",
   "execution_count": 5,
   "id": "f76d53d9-2a63-4534-ace4-001a8d50e47a",
   "metadata": {},
   "outputs": [
    {
     "name": "stdout",
     "output_type": "stream",
     "text": [
      "0.7748409780000002\n",
      "0.22515902199999982\n"
     ]
    }
   ],
   "source": [
    "from scipy.stats import beta\n",
    "a = 8\n",
    "b = 2\n",
    "p = beta.cdf(.90, a, b)\n",
    "print(p)\n",
    "\n",
    "p = 1.0 - beta.cdf(.90, a, b)\n",
    "print(p)"
   ]
  },
  {
   "cell_type": "markdown",
   "id": "0d0ea3b2-0136-49c4-bab6-e13b5129ea22",
   "metadata": {},
   "source": [
    "Calculating the área between .9 and .8 ```|___--__|```"
   ]
  },
  {
   "cell_type": "code",
   "execution_count": 6,
   "id": "22df6742-8faa-4a70-9c73-2cd0e309a603",
   "metadata": {},
   "outputs": [
    {
     "name": "stdout",
     "output_type": "stream",
     "text": [
      "0.33863336199999994\n"
     ]
    }
   ],
   "source": [
    "from scipy.stats import beta\n",
    "a = 8\n",
    "b = 2\n",
    "p = beta.cdf(.90, a, b) - beta.cdf(.8, a, b)\n",
    "print(p)"
   ]
  },
  {
   "cell_type": "markdown",
   "id": "fd6ff504",
   "metadata": {},
   "source": [
    "### Descriptive Statistics"
   ]
  },
  {
   "cell_type": "code",
   "execution_count": 7,
   "id": "bfd5b3ac",
   "metadata": {},
   "outputs": [
    {
     "name": "stdout",
     "output_type": "stream",
     "text": [
      "2.875\n"
     ]
    }
   ],
   "source": [
    "# calculate mean\n",
    "# number of pets each persos owns\n",
    "sample = [1, 3, 2, 5, 7, 0, 2, 3]\n",
    "mean = sum(sample) / len(sample)\n",
    "print(mean)"
   ]
  },
  {
   "cell_type": "markdown",
   "id": "5738dd65",
   "metadata": {},
   "source": [
    "There are two versions of mean: The sample mean $\\bar{x}$ and the population mean $y$ expressed as:\n",
    "$$\n",
    "\\bar{x} = \\frac{x_1 + x_2 + x_3 + ... + x_n}{n} = \\sum\\frac{x_i}{n} \\\\[5pt]\n",
    "\\mu = \\frac{x_1 + x_2 + x_3 + ... + x_n}{n} = \\sum\\frac{x_i}{N}\n",
    "$$"
   ]
  },
  {
   "cell_type": "markdown",
   "id": "99623f6d",
   "metadata": {},
   "source": [
    "* **Weighted Mean**\n",
    "$$\n",
    "wmean = \\frac{(x_1 * w_1) + (x_2 * w_2) + (x_3 * w_3) + ... + (x_n * w_n)}{w_1 + w_2 + w_3 + ... + w_n}\n",
    "$$"
   ]
  },
  {
   "cell_type": "code",
   "execution_count": 8,
   "id": "8e39b0aa",
   "metadata": {},
   "outputs": [
    {
     "name": "stdout",
     "output_type": "stream",
     "text": [
      "81.4\n",
      "81.4\n"
     ]
    }
   ],
   "source": [
    "sample = [90, 80, 63, 87]\n",
    "weights = [.20, .20, .20, .40]\n",
    "wmean = sum(s * w for s, w in zip(sample, weights)) / sum(weights)\n",
    "print(wmean)\n",
    "\n",
    "# weights dont have to be porcentages\n",
    "weights = [1, 1, 1, 2]\n",
    "wmean = sum(s * w for s, w in zip(sample, weights)) / sum(weights)\n",
    "print(wmean)"
   ]
  },
  {
   "cell_type": "markdown",
   "id": "4ce50737",
   "metadata": {},
   "source": [
    "* **Median**"
   ]
  },
  {
   "cell_type": "code",
   "execution_count": 9,
   "id": "8f2be044",
   "metadata": {},
   "outputs": [
    {
     "name": "stdout",
     "output_type": "stream",
     "text": [
      "[0, 1, 5, 7, 9, 10, 14]\n",
      "7\n"
     ]
    }
   ],
   "source": [
    "sample = [0, 1, 5, 7, 9, 10, 14]\n",
    "\n",
    "def median(values):\n",
    "    ordered = sorted(values)\n",
    "    print(ordered)\n",
    "    n = len(ordered)\n",
    "    mid = int(n / 2) - 1 if n % 2 == 0 else int(n/2)\n",
    "    if n % 2 == 0:\n",
    "        return (ordered[mid] + ordered[mid+1]) / 2.0\n",
    "    else:\n",
    "        return ordered[mid]\n",
    "\n",
    "print(median(sample))"
   ]
  },
  {
   "cell_type": "markdown",
   "id": "af39784e",
   "metadata": {},
   "source": [
    "* **Mode**"
   ]
  },
  {
   "cell_type": "code",
   "execution_count": 10,
   "id": "e0cb1d43",
   "metadata": {},
   "outputs": [
    {
     "name": "stdout",
     "output_type": "stream",
     "text": [
      "[2, 3]\n"
     ]
    }
   ],
   "source": [
    "from collections import defaultdict\n",
    "sample = [1, 3, 2, 5, 7, 0, 2, 3]\n",
    "\n",
    "\n",
    "def mode(values):\n",
    "    counts = defaultdict(lambda: 0)\n",
    "    for s in values:\n",
    "        counts[s] += 1\n",
    "    max_count = max(counts.values())\n",
    "    modes = [v for v in set(values) if counts[v] == max_count]\n",
    "    return modes\n",
    "    \n",
    "print(mode(sample))"
   ]
  },
  {
   "cell_type": "markdown",
   "id": "65936d46",
   "metadata": {},
   "source": [
    "* **Variance and Standard Deviation**\n",
    "$$\n",
    "population\\_variance = \\frac{(x_1-mean)^2+(x_2-mean)^2+...+(x_n-mean)^2}{N} \\\\[5pt]\n",
    "\\sigma^2=\\frac{\\sum(x_i-\\mu)^2}{N} \\\\[5pt]\n",
    "standard\\_deviation = \\sqrt{\\sigma^2=\\frac{\\sum(x_i-\\mu)^2}{N}}\n",
    "$$"
   ]
  },
  {
   "cell_type": "code",
   "execution_count": 11,
   "id": "c3ef9fc1",
   "metadata": {},
   "outputs": [
    {
     "name": "stdout",
     "output_type": "stream",
     "text": [
      "variance 21.387755102040813\n",
      "standard deviation 4.624689730353898\n"
     ]
    }
   ],
   "source": [
    "from math import sqrt\n",
    "\n",
    "sample = [0, 1, 5, 7, 9, 10, 14]\n",
    "\n",
    "def variance(values, is_sample: bool = False):\n",
    "    mean = sum(values) / len(values)\n",
    "    _variance = sum((v - mean) ** 2 for v in values) / (len(values) - (1 if is_sample else 0))\n",
    "    return _variance\n",
    "\n",
    "print(\"variance\", variance(sample))\n",
    "print(\"standard deviation\", sqrt(variance(sample)))"
   ]
  },
  {
   "cell_type": "markdown",
   "id": "f5d49d36",
   "metadata": {},
   "source": [
    "* **Sample Variance and Standard Deviation**\n",
    "$$\n",
    "s^2=\\frac{\\sum(x_i-\\bar{x})^2}{n-1} \\\\[5pt]\n",
    "s=\\sqrt{\\frac{\\sum(x_i-\\bar{x})^2}{n-1}} \\\\[5pt]\n",
    "$$"
   ]
  },
  {
   "cell_type": "code",
   "execution_count": 12,
   "id": "c386c998",
   "metadata": {},
   "outputs": [
    {
     "name": "stdout",
     "output_type": "stream",
     "text": [
      "variance = 24.95238095238095\n",
      "std dev = 4.99523582550223\n"
     ]
    }
   ],
   "source": [
    "def std_dev(values, is_sample: bool = True):\n",
    "    return sqrt(variance(values, is_sample))\n",
    "\n",
    "data = [0, 1, 5, 7, 9, 10, 14]\n",
    "\n",
    "print(\"variance = {}\".format(variance(data, is_sample=True)))\n",
    "print(\"std dev = {}\".format(std_dev(data, is_sample=True)))"
   ]
  },
  {
   "cell_type": "markdown",
   "id": "49390178-ce0e-466e-a4f4-c6e6929f5608",
   "metadata": {},
   "source": [
    "* **The Normal Distribution**"
   ]
  },
  {
   "cell_type": "markdown",
   "id": "022c0606-3271-493b-868a-88467ecfee6d",
   "metadata": {},
   "source": [
    "* **The Probability Density Function**\n",
    "$$\n",
    "f(x) = \\frac{1}{\\sigma}*\\sqrt{2\\pi}*e^{-\\frac{1}{2}\\big(\\frac{x-\\mu^2}{\\sigma}\\big)}\n",
    "$$"
   ]
  },
  {
   "cell_type": "markdown",
   "id": "c2e5a1cf-a544-4c95-ac9f-ebb038873791",
   "metadata": {},
   "source": [
    "* **The Cumulative Density Function**"
   ]
  },
  {
   "cell_type": "code",
   "execution_count": 13,
   "id": "e05e543a-a346-4b76-90d6-f91e53b67add",
   "metadata": {},
   "outputs": [
    {
     "name": "stdout",
     "output_type": "stream",
     "text": [
      "0.5\n",
      "0.4920450147062894\n"
     ]
    }
   ],
   "source": [
    "from scipy.stats import norm\n",
    "mean = 64.43\n",
    "std_dev = 2.99\n",
    "\n",
    "x = norm.cdf(64.43, mean, std_dev)\n",
    "print(x)\n",
    "\n",
    "# finds the probability for 62 to 66 golden retriever weigths\n",
    "x = norm.cdf(66, mean, std_dev) - norm.cdf(62, mean, std_dev)\n",
    "print(x)"
   ]
  },
  {
   "cell_type": "markdown",
   "id": "369c354a-1e34-4882-bb6b-5d50d4d36be7",
   "metadata": {},
   "source": [
    "* **Inverse CDF**\n",
    "We use to input a probability and return a x-value"
   ]
  },
  {
   "cell_type": "code",
   "execution_count": 14,
   "id": "f207ef4b-75e9-4966-bfc9-3aa0604013ee",
   "metadata": {},
   "outputs": [
    {
     "name": "stdout",
     "output_type": "stream",
     "text": [
      "70.3481123445849 pounds\n"
     ]
    }
   ],
   "source": [
    "from scipy.stats import norm\n",
    "\n",
    "x = norm.ppf(.95, loc=65.43, scale=2.99)\n",
    "print(x, \"pounds\") # result in specific unit"
   ]
  },
  {
   "cell_type": "code",
   "execution_count": 15,
   "id": "29d0a9ac-dfd1-4967-ad70-de4bde34e757",
   "metadata": {},
   "outputs": [
    {
     "data": {
      "text/plain": [
       "(array([  7.,  49., 114., 162., 202., 205., 150.,  85.,  22.,   4.]),\n",
       " array([55.6469104 , 57.47296151, 59.29901261, 61.12506372, 62.95111483,\n",
       "        64.77716593, 66.60321704, 68.42926814, 70.25531925, 72.08137036,\n",
       "        73.90742146]),\n",
       " <BarContainer object of 10 artists>)"
      ]
     },
     "execution_count": 15,
     "metadata": {},
     "output_type": "execute_result"
    },
    {
     "data": {
      "image/png": "[encoded data removed]",
      "text/plain": [
       "<Figure size 640x480 with 1 Axes>"
      ]
     },
     "metadata": {},
     "output_type": "display_data"
    }
   ],
   "source": [
    "import random\n",
    "from scipy.stats import norm\n",
    "import matplotlib.pyplot as plt\n",
    "\n",
    "data = []\n",
    "\n",
    "# generates an entire golden retriever population from inverse cdf function\n",
    "for i in range(0, 1000):\n",
    "    random_p = random.uniform(.0, 1.0)\n",
    "    random_weight = norm.ppf(random_p, loc=64.43, scale=2.99) # loc - level of confidence, scale - std deviation\n",
    "    data.append(random_weight)\n",
    "\n",
    "plt.hist(data)\n"
   ]
  },
  {
   "cell_type": "markdown",
   "id": "ce48ad68-3224-453a-9b5a-9003f7230bf1",
   "metadata": {},
   "source": [
    "* **Z-Scores**\n",
    "$$\n",
    "z = \\frac{x-\\mu}{\\sigma}\n",
    "$$"
   ]
  },
  {
   "cell_type": "code",
   "execution_count": 16,
   "id": "aec09f00-eaf4-4c2d-8824-92718d24f5f7",
   "metadata": {},
   "outputs": [
    {
     "name": "stdout",
     "output_type": "stream",
     "text": [
      "z-score: 3.3333333333333335\n",
      "back to x: 150000.0\n"
     ]
    }
   ],
   "source": [
    "def z_score(x, mean, std):\n",
    "    return (x - mean) / std\n",
    "\n",
    "def z_to_x(z, mean, std):\n",
    "    return (z * std) + mean\n",
    "\n",
    "mean = 140000\n",
    "std_dev = 3000\n",
    "x = 150000\n",
    "\n",
    "z = z_score(x, mean, std_dev)\n",
    "back_to_x = z_to_x(z, mean, std_dev)\n",
    "print(\"z-score: {}\".format(z))\n",
    "print(\"back to x: {}\".format(back_to_x))"
   ]
  },
  {
   "cell_type": "markdown",
   "id": "cd2e0dd5-685f-490b-a843-030e0c6e3a31",
   "metadata": {},
   "source": [
    "* **Coefficient of Variation**\n",
    "$$\n",
    "cv = \\frac{\\sigma}{\\mu}\n",
    "$$"
   ]
  },
  {
   "cell_type": "markdown",
   "id": "61eb66f0-b3af-41c1-9cdf-24f6c79cb575",
   "metadata": {},
   "source": [
    "### Inferential Statistics\n",
    "\n",
    "* **The Central Limit Therorem** \\\n",
    "When we start measuring large enough samples from a population, even if that population does not follow a normal distribution, the normal distribution still makes an appearance.\n",
    "If we increasingly take large samples from a population, take the **avarage** of each we will get a normal distribution.\n",
    "\n",
    "1. The mean of the sample means is equal to the population mean.\n",
    "2. If the population is normal, then the samples will be normal.\n",
    "3. If the population is not normal, but the sample size is greater than 30, the sample means will still roughly form a normal distribution.\n",
    "4. The standard deviation of the sample means equals the population standard deviation divided by the square root of $n$.\n",
    "\n",
    "#### Example\n",
    "\n",
    "_Based on a sample of 31 golden retrievers with a sample mean of 64.408 and a\n",
    "sample standard deviation of 2.05, I am 95% confident that the population mean\n",
    "lies between 63.686 and 65.1296_.\n",
    "\n",
    "$$\n",
    "sample\\_std\\_dev = \\frac{population\\_standard\\_deviation}{\\sqrt{sample\\_size}} \\\\[10pt]\n",
    "$$\n",
    "* **Margin of Error E**\n",
    "$$\n",
    "E = \\pm zc \\frac{s}{\\sqrt{n}} \\\\[10pt]\n",
    "E = \\pm1.95996*\\frac{2.05}{\\sqrt{31}} \\\\[10pt]\n",
    "E = \\pm 0.72164\n",
    "$$"
   ]
  },
  {
   "cell_type": "code",
   "execution_count": 17,
   "id": "49ab5ebb",
   "metadata": {},
   "outputs": [
    {
     "data": {
      "text/plain": [
       "(array([ 19.,  58., 125., 183., 234., 200., 110.,  50.,  16.,   5.]),\n",
       " array([0.35918096, 0.39020492, 0.42122888, 0.45225283, 0.48327679,\n",
       "        0.51430074, 0.5453247 , 0.57634866, 0.60737261, 0.63839657,\n",
       "        0.66942052]),\n",
       " <BarContainer object of 10 artists>)"
      ]
     },
     "execution_count": 17,
     "metadata": {},
     "output_type": "execute_result"
    },
    {
     "data": {
      "image/png": "[encoded data removed]",
      "text/plain": [
       "<Figure size 640x480 with 1 Axes>"
      ]
     },
     "metadata": {},
     "output_type": "display_data"
    }
   ],
   "source": [
    "import random\n",
    "import matplotlib.pyplot as plt\n",
    "\n",
    "sample_size = 31\n",
    "sample_count = 1000\n",
    "x_values = [(sum([random.uniform(0.0, 1.0) for i in range(sample_size)]) / sample_size) for _ in range(sample_count)]\n",
    "#y_values = [1 for _ in range(sample_count)]\n",
    "#print(y_values)\n",
    "#px.histogram(x = x_values, y = y_values, nbins=20).show()\n",
    "plt.hist(x_values)"
   ]
  },
  {
   "cell_type": "code",
   "execution_count": 18,
   "id": "cb9b9428",
   "metadata": {},
   "outputs": [
    {
     "name": "stdout",
     "output_type": "stream",
     "text": [
      "(-1.959963984540054, 1.959963984540054)\n",
      "(63.68635915701992, 65.12964084298008)\n"
     ]
    }
   ],
   "source": [
    "from math import sqrt\n",
    "from scipy.stats import norm\n",
    "\n",
    "def critical_z_value(p):\n",
    "    norm_dist = norm(loc=0.0, scale=1.0)\n",
    "    left_tail_area = (1.0 - p) / 2.0\n",
    "    upper_area = 1.0 - ((1.0 - p) / 2.0)\n",
    "    return norm_dist.ppf(left_tail_area), norm_dist.ppf(upper_area)\n",
    "\n",
    "print(critical_z_value(p=.95))\n",
    "def confidence_interval(p, sample_mean, sample_std, n):\n",
    "    lower, upper = critical_z_value(p)\n",
    "    lower_ci = lower * (sample_std / sqrt(n))\n",
    "    upper_ci = upper * (sample_std / sqrt(n))\n",
    "    return sample_mean + lower_ci, sample_mean + upper_ci\n",
    "\n",
    "print(confidence_interval(p=.95, sample_mean=64.408, sample_std=2.05, n=31))"
   ]
  },
  {
   "cell_type": "markdown",
   "id": "daf92be8-0680-4746-acd9-b659ba501e55",
   "metadata": {},
   "source": [
    "* **Understanding P-Values**"
   ]
  },
  {
   "cell_type": "markdown",
   "id": "6e542671",
   "metadata": {},
   "source": [
    "### Hipothesis Testing\n",
    "\n",
    "* **One-Tailed Test**"
   ]
  },
  {
   "cell_type": "code",
   "execution_count": 4,
   "id": "24ea2029-ae1a-4c18-bf7e-0c64f97668b1",
   "metadata": {},
   "outputs": [
    {
     "name": "stdout",
     "output_type": "stream",
     "text": [
      "0.9544997361036416\n",
      "15.53271955957279\n"
     ]
    }
   ],
   "source": [
    "# Calculating the probability of recovery between 15 and 21 days from a cold\n",
    "from scipy.stats import norm\n",
    "\n",
    "mean = 18\n",
    "std_dev = 1.5\n",
    "\n",
    "# 95% probability recovery time takes between 15 and 21 days\n",
    "x = norm.cdf(21, mean, std_dev) - norm.cdf(15, mean, std_dev)\n",
    "print(x)\n",
    "\n",
    "x = norm.ppf(.05, mean, std_dev)\n",
    "print(x)"
   ]
  },
  {
   "cell_type": "markdown",
   "id": "8a6e3201",
   "metadata": {},
   "source": [
    "* **Two-Tailed Test**"
   ]
  },
  {
   "cell_type": "code",
   "execution_count": 4,
   "id": "e0081fee",
   "metadata": {},
   "outputs": [
    {
     "name": "stdout",
     "output_type": "stream",
     "text": [
      "x1: 15.060054023189918 x2: 20.93994597681008\n",
      "0.18242243945173575\n"
     ]
    }
   ],
   "source": [
    "from scipy.stats import norm\n",
    "\n",
    "# Cold has 18 day mean recovery, 1.5 std dev\n",
    "mean = 18\n",
    "std_dev = 1.5\n",
    "\n",
    "# What x-value has 2.5% of area behind it?\n",
    "x1 = norm.ppf(.025, mean, std_dev)\n",
    "\n",
    "# What x-value has 97.5% of area behind it?\n",
    "x2 = norm.ppf(.975, mean, std_dev)\n",
    "\n",
    "print(\"x1:\", x1, \"x2:\", x2)\n",
    "\n",
    "# Calculating the two-tailed p-value\n",
    "# Probability of 16 or less days\n",
    "p1 = norm.cdf(16, mean, std_dev)\n",
    "\n",
    "# Probability of 20 or more days\n",
    "p2 = 1.0 - norm.cdf(20, mean, std_dev)\n",
    "p_value = p1 + p2\n",
    "\n",
    "print(p_value)"
   ]
  },
  {
   "cell_type": "markdown",
   "id": "9ee3b26a-01ea-495f-9b8a-f09782381241",
   "metadata": {},
   "source": [
    "### The T Distribution"
   ]
  },
  {
   "cell_type": "code",
   "execution_count": 3,
   "id": "fb4713e9-247b-4c4d-8c31-a5a28a58ad86",
   "metadata": {},
   "outputs": [
    {
     "name": "stdout",
     "output_type": "stream",
     "text": [
      "-2.063898561628021 2.0638985616280205\n"
     ]
    }
   ],
   "source": [
    "from scipy.stats import t\n",
    "\n",
    "# Get critical value range for 95% confidence\n",
    "# with sample size of 25\n",
    "n = 25\n",
    "lower = t.ppf(0.025, df=n-1)\n",
    "upper = t.ppf(0.975, df=n-1)\n",
    "\n",
    "print(lower, upper)"
   ]
  }
 ],
 "metadata": {
  "kernelspec": {
   "display_name": "Python 3 (ipykernel)",
   "language": "python",
   "name": "python3"
  },
  "language_info": {
   "codemirror_mode": {
    "name": "ipython",
    "version": 3
   },
   "file_extension": ".py",
   "mimetype": "text/x-python",
   "name": "python",
   "nbconvert_exporter": "python",
   "pygments_lexer": "ipython3",
   "version": "3.10.8"
  },
  "vscode": {
   "interpreter": {
    "hash": "47820119221088a46226aae6f764b9ae8c09d0f8fce139ff0af7f6adc58d3335"
   }
  }
 },
 "nbformat": 4,
 "nbformat_minor": 5
}
