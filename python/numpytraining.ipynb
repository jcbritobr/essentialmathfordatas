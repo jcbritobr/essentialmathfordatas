{
 "cells": [
  {
   "cell_type": "markdown",
   "id": "ab7d459a-0314-4a7f-b975-aec644baa12b",
   "metadata": {},
   "source": [
    "# Numpy Training Notebook"
   ]
  },
  {
   "cell_type": "code",
   "execution_count": 2,
   "id": "f5acde6a-79ec-41f3-a0f8-d194c6c591a2",
   "metadata": {},
   "outputs": [],
   "source": [
    "import numpy as np"
   ]
  },
  {
   "cell_type": "markdown",
   "id": "92b1782d-39b7-4170-98fd-91c003ab25cd",
   "metadata": {},
   "source": [
    "#### Numpy ndarray basic attributes"
   ]
  },
  {
   "cell_type": "code",
   "execution_count": 3,
   "id": "c1cc4c3d-36b7-4267-bbd9-4bd37fe15ab5",
   "metadata": {},
   "outputs": [
    {
     "name": "stdout",
     "output_type": "stream",
     "text": [
      "[[1 2]\n",
      " [3 4]\n",
      " [5 6]]\n",
      "type <class 'numpy.ndarray'>\n",
      "ndim 2\n",
      "shape (3, 2)\n",
      "size 6\n",
      "dtype int64\n",
      "nbytes 48\n"
     ]
    }
   ],
   "source": [
    "data = np.array([[1, 2], [3, 4], [5, 6]])\n",
    "print(data)\n",
    "\n",
    "print(f\"type {type(data)}\")\n",
    "print(f\"ndim {data.ndim}\")\n",
    "print(f\"shape {data.shape}\")\n",
    "print(f\"size {data.size}\")\n",
    "print(f\"dtype {data.dtype}\")\n",
    "print(f\"nbytes {data.nbytes}\")"
   ]
  },
  {
   "cell_type": "markdown",
   "id": "150e36bb-2ce2-4cab-a005-00f88d2b335b",
   "metadata": {},
   "source": [
    "##### Create ndarrays with diferent types"
   ]
  },
  {
   "cell_type": "code",
   "execution_count": 4,
   "id": "5129f9f1-4611-4e3e-82c7-68fb0eb0ff57",
   "metadata": {},
   "outputs": [
    {
     "name": "stdout",
     "output_type": "stream",
     "text": [
      "[1 2 3]\n",
      "[1. 2. 3.]\n",
      "[1.+0.j 2.+0.j 3.+0.j]\n"
     ]
    }
   ],
   "source": [
    "data = np.array([1, 2, 3], dtype=int)\n",
    "print(data)\n",
    "data = np.array([1, 2, 3], dtype=float)\n",
    "print(data)\n",
    "print(np.array([1, 2, 3], dtype=complex))"
   ]
  },
  {
   "cell_type": "markdown",
   "id": "7ca9fc6f-e6e4-4848-98c9-327650cab74c",
   "metadata": {},
   "source": [
    "#### Typecasting a numpy array"
   ]
  },
  {
   "cell_type": "code",
   "execution_count": 5,
   "id": "3c7d4dcd-bb2d-4638-91f0-9da6a8343735",
   "metadata": {},
   "outputs": [
    {
     "name": "stdout",
     "output_type": "stream",
     "text": [
      "float64\n",
      "int64\n",
      "float64\n"
     ]
    }
   ],
   "source": [
    "data = np.array([1, 2, 3], dtype=float)\n",
    "print(data.dtype)\n",
    "data = np.array(data, dtype=int)\n",
    "print(data.dtype)\n",
    "\n",
    "# or by using astype method of the ndarray class\n",
    "print(data.astype(float).dtype)"
   ]
  },
  {
   "cell_type": "markdown",
   "id": "d006bf1d-3c32-421d-8e6b-e670caf32af6",
   "metadata": {},
   "source": [
    "#### Promoting data types with numpy"
   ]
  },
  {
   "cell_type": "code",
   "execution_count": 6,
   "id": "157dec19-71de-46e2-8d4f-8bc70ab38b67",
   "metadata": {},
   "outputs": [
    {
     "name": "stdout",
     "output_type": "stream",
     "text": [
      "complex128\n"
     ]
    },
    {
     "data": {
      "text/plain": [
       "array([0.+1.j, 0.+0.j, 1.+0.j])"
      ]
     },
     "execution_count": 6,
     "metadata": {},
     "output_type": "execute_result"
    }
   ],
   "source": [
    "d1 = np.array([1, 2, 3], dtype=float)\n",
    "d2 = np.array([1, 2, 3], dtype=complex)\n",
    "\n",
    "print((d1 + d2).dtype)\n",
    "\n",
    "# np.sqrt(np.array([-1, 0, 1])) # shourd emit a warning\n",
    "np.sqrt(np.array([-1, 0, 1], dtype=complex))"
   ]
  },
  {
   "cell_type": "markdown",
   "id": "a25ce810-8c0c-41cd-a32d-e9106bb0ac92",
   "metadata": {},
   "source": [
    "#### Real and Imaginary Parts"
   ]
  },
  {
   "cell_type": "code",
   "execution_count": 7,
   "id": "d3506fc4-4c41-46ca-913b-a460c591336d",
   "metadata": {},
   "outputs": [
    {
     "name": "stdout",
     "output_type": "stream",
     "text": [
      "[1.+0.j 2.+0.j 3.+0.j]\n",
      "[1. 2. 3.] [0. 0. 0.]\n"
     ]
    }
   ],
   "source": [
    "data = np.array([1, 2, 3], dtype=complex)\n",
    "print(data)\n",
    "print(data.real, data.imag)"
   ]
  },
  {
   "cell_type": "markdown",
   "id": "c5aea27e-029f-4c42-8c83-9cb7667a4434",
   "metadata": {},
   "source": [
    "#### Creating Arrays"
   ]
  },
  {
   "cell_type": "code",
   "execution_count": 8,
   "id": "63d9de98-3ff0-4bba-a74c-d4014a492754",
   "metadata": {},
   "outputs": [
    {
     "name": "stdout",
     "output_type": "stream",
     "text": [
      "1\n",
      "(3,)\n",
      "[[1 2]\n",
      " [3 4]]\n",
      "2\n",
      "(2, 2)\n"
     ]
    }
   ],
   "source": [
    "data = np.array([1, 2, 3])\n",
    "print(data.ndim)\n",
    "print(data.shape)\n",
    "\n",
    "# create two dimensional arrays with same data\n",
    "data = np.array([[1, 2], [3, 4]])\n",
    "print(data)\n",
    "print(data.ndim)\n",
    "print(data.shape)"
   ]
  },
  {
   "cell_type": "markdown",
   "id": "227c02a6-2f8d-4493-a828-eb874f84ba02",
   "metadata": {},
   "source": [
    "* **Arrays Filled with Constants**"
   ]
  },
  {
   "cell_type": "code",
   "execution_count": 9,
   "id": "dd20c49c-494c-41c5-8237-825f4111ac84",
   "metadata": {},
   "outputs": [
    {
     "name": "stdout",
     "output_type": "stream",
     "text": [
      "[[0. 0. 0.]\n",
      " [0. 0. 0.]]\n",
      "[[1. 1. 1.]\n",
      " [1. 1. 1.]]\n",
      "[1. 1. 1. 1.]\n",
      "float64\n",
      "[1 1 1 1]\n",
      "int64\n",
      "[5.4 5.4 5.4 5.4 5.4 5.4 5.4 5.4 5.4 5.4]\n",
      "[5.4 5.4 5.4 5.4 5.4 5.4 5.4 5.4 5.4 5.4]\n",
      "[7.33943163e-317 0.00000000e+000 9.57228078e-317 1.34448306e-316\n",
      " 2.37151510e-322]\n",
      "[3. 3. 3. 3. 3.]\n"
     ]
    }
   ],
   "source": [
    "data = np.zeros((2, 3))\n",
    "print(data)\n",
    "\n",
    "data = np.ones((2, 3))\n",
    "print(data)\n",
    "\n",
    "data = np.ones(4)\n",
    "print(data)\n",
    "print(data.dtype)\n",
    "data = np.ones(4, dtype=np.int64)\n",
    "print(data)\n",
    "print(data.dtype)\n",
    "\n",
    "x1 = 5.4 * np.ones(10)\n",
    "print(x1)\n",
    "x2 = np.full(10, 5.4)\n",
    "print(x2)\n",
    "\n",
    "x1 = np.empty(5)\n",
    "print(x1)\n",
    "x1.fill(3.0)\n",
    "print(x1)"
   ]
  },
  {
   "cell_type": "markdown",
   "id": "26583b78-449e-4a88-abd4-0565ffc6b0d1",
   "metadata": {},
   "source": [
    "* **Arrays Filled with Incremental Sequences**"
   ]
  },
  {
   "cell_type": "code",
   "execution_count": 10,
   "id": "ce0f190c-d3a2-47bb-8a8c-236d1492198f",
   "metadata": {},
   "outputs": [
    {
     "name": "stdout",
     "output_type": "stream",
     "text": [
      "[0 1 2 3 4 5 6 7 8 9]\n",
      "[0.         0.11111111 0.22222222 0.33333333 0.44444444 0.55555556\n",
      " 0.66666667 0.77777778 0.88888889 1.        ]\n"
     ]
    }
   ],
   "source": [
    "data = np.arange(0, 10, 1)\n",
    "print(data)\n",
    "data = np.linspace(0, 1, 10)\n",
    "print(data)"
   ]
  },
  {
   "cell_type": "markdown",
   "id": "c9ad3c76-3149-41f9-bf9b-53647231dd75",
   "metadata": {},
   "source": [
    "* **Arrays Filled with Logarithm Sequences**"
   ]
  },
  {
   "cell_type": "code",
   "execution_count": 11,
   "id": "475b4ffa-b435-4761-9c44-b4b3ff39f878",
   "metadata": {},
   "outputs": [
    {
     "name": "stdout",
     "output_type": "stream",
     "text": [
      "[  1.           3.16227766  10.          31.6227766  100.        ]\n"
     ]
    }
   ],
   "source": [
    "data = np.logspace(0, 2, 5) # 10**0 = 1 until 10**2 = 100\n",
    "print(data)"
   ]
  },
  {
   "cell_type": "markdown",
   "id": "de559129-ef37-4b9d-977e-e31f5d2257c6",
   "metadata": {},
   "source": [
    "* **Meshgrid Arrays**"
   ]
  },
  {
   "cell_type": "code",
   "execution_count": 12,
   "id": "55fdbcc0-4e1c-45d0-b6a7-ac167aa3cfe2",
   "metadata": {},
   "outputs": [
    {
     "name": "stdout",
     "output_type": "stream",
     "text": [
      ">> [[-1  0  1]\n",
      " [-1  0  1]\n",
      " [-1  0  1]]\n",
      ">> [[-2 -2 -2]\n",
      " [ 0  0  0]\n",
      " [ 2  2  2]]\n",
      ">> [[9 4 1]\n",
      " [1 0 1]\n",
      " [1 4 9]]\n"
     ]
    }
   ],
   "source": [
    "x = np.array([-1, 0, 1])\n",
    "y = np.array([-2, 0, 2])\n",
    "X, Y = np.meshgrid(x, y)\n",
    "print(\">>\", X)\n",
    "print(\">>\", Y)\n",
    "\n",
    "# a common use case of two dimensional coordinate arrays, like X and Y in this example, is to evaluate functions over two\n",
    "# variables x and y.\n",
    "\n",
    "Z = (X + Y) ** 2\n",
    "print(\">>\", Z)"
   ]
  },
  {
   "cell_type": "markdown",
   "id": "a9ae0322-3190-4f5a-95cf-ecbb5bd0ff07",
   "metadata": {},
   "source": [
    "* **Creating Uninitialized Arrays**"
   ]
  },
  {
   "cell_type": "code",
   "execution_count": 13,
   "id": "e3b73478-2396-4a62-a7fc-2bd456f06e7a",
   "metadata": {},
   "outputs": [
    {
     "name": "stdout",
     "output_type": "stream",
     "text": [
      "[1. 2. 3.]\n"
     ]
    }
   ],
   "source": [
    "print(np.empty(3, dtype=float))"
   ]
  },
  {
   "cell_type": "markdown",
   "id": "c416f408-70ea-49c5-8448-359232d13990",
   "metadata": {},
   "source": [
    "* **Creating Arrays with Properties of other Arrays**"
   ]
  },
  {
   "cell_type": "code",
   "execution_count": 14,
   "id": "ab729bbf-69ff-460c-81ad-dbbebd17a023",
   "metadata": {},
   "outputs": [
    {
     "name": "stdout",
     "output_type": "stream",
     "text": [
      "[1. 1. 1.]\n",
      "float64\n"
     ]
    }
   ],
   "source": [
    "def f(x):\n",
    "    y = np.ones_like(x)\n",
    "    return y\n",
    "\n",
    "data = f(np.array([1, 2, 3], dtype=float))\n",
    "print(data)\n",
    "print(data.dtype)"
   ]
  },
  {
   "cell_type": "markdown",
   "id": "19bfeeb3-eb65-45fb-b6fb-491d9726096a",
   "metadata": {},
   "source": [
    "* **Creating Matrix Arrays**"
   ]
  },
  {
   "cell_type": "code",
   "execution_count": 15,
   "id": "11d71951-aa14-4418-aab1-e0b8002ae261",
   "metadata": {},
   "outputs": [
    {
     "name": "stdout",
     "output_type": "stream",
     "text": [
      "[[1. 0. 0. 0.]\n",
      " [0. 1. 0. 0.]\n",
      " [0. 0. 1. 0.]\n",
      " [0. 0. 0. 1.]]\n",
      "[[0. 0. 0.]\n",
      " [1. 0. 0.]\n",
      " [0. 1. 0.]]\n",
      "[[ 0  0  0  0]\n",
      " [ 0  5  0  0]\n",
      " [ 0  0 10  0]\n",
      " [ 0  0  0 15]]\n"
     ]
    }
   ],
   "source": [
    "data = np.identity(4)\n",
    "print(data)\n",
    "\n",
    "data = np.eye(3, k=-1)\n",
    "print(data)\n",
    "\n",
    "print(np.diag(np.arange(0, 20, 5)))"
   ]
  },
  {
   "cell_type": "markdown",
   "id": "b566c0a4-277a-4efc-bd72-1fda04eede12",
   "metadata": {},
   "source": [
    "#### Indexing Slices"
   ]
  },
  {
   "cell_type": "markdown",
   "id": "43a76139-ffd5-41b2-8010-ac7b454e6d9e",
   "metadata": {},
   "source": [
    "* **One Dimensional Arrays**"
   ]
  },
  {
   "cell_type": "code",
   "execution_count": 16,
   "id": "fbf13b59-3b53-445e-9a6d-2c7d49c67051",
   "metadata": {},
   "outputs": [
    {
     "name": "stdout",
     "output_type": "stream",
     "text": [
      "1\n",
      "19\n",
      "[6 7 8 9]\n",
      "[ 2  4  6  8 10 12 14 16 18]\n",
      "[19 18 17 16 15 14 13 12 11 10  9  8  7  6  5  4  3  2  1]\n"
     ]
    }
   ],
   "source": [
    "data = np.arange(1, 20, 1)\n",
    "print(data[0])\n",
    "\n",
    "print(data[-1])\n",
    "print(data[5:9])\n",
    "print(data[1::2])\n",
    "print(data[::-1])"
   ]
  },
  {
   "cell_type": "markdown",
   "id": "4c68e54d-ba1b-412d-84b8-7c9e2640c643",
   "metadata": {},
   "source": [
    "* **Multidimensional Arrays**"
   ]
  },
  {
   "cell_type": "code",
   "execution_count": 17,
   "id": "f95fb541-4e32-4a8b-b433-80e7cc78ca87",
   "metadata": {},
   "outputs": [
    {
     "name": "stdout",
     "output_type": "stream",
     "text": [
      "[[ 0  1  2  3  4]\n",
      " [ 5  6  7  8  9]\n",
      " [10 11 12 13 14]\n",
      " [15 16 17 18 19]\n",
      " [20 21 22 23 24]]\n",
      "[ 0  5 10 15 20]\n",
      "[ 0 10 20]\n",
      "[[ 0  2  4]\n",
      " [ 5  7  9]\n",
      " [10 12 14]\n",
      " [15 17 19]\n",
      " [20 22 24]]\n",
      "[[ 0  1  2]\n",
      " [ 5  6  7]\n",
      " [10 11 12]]\n",
      "[ 6  7  8  9 10 11 12 13 14 15 16 17 18 19 20 21 22 23 24]\n",
      "[[ 0  4]\n",
      " [ 5  9]\n",
      " [10 14]\n",
      " [15 19]\n",
      " [20 24]]\n"
     ]
    }
   ],
   "source": [
    "data = np.reshape(np.arange(0, 25), (5, 5))\n",
    "print(data)\n",
    "print(data[:, 0])\n",
    "print(data[0::2, 0])\n",
    "print(data[:, ::2])\n",
    "print(data[:3, :3])\n",
    "print(data[data > 5]) # using fance indexing\n",
    "print(data[:, [0, 4]])"
   ]
  },
  {
   "cell_type": "markdown",
   "id": "b3996d76-ad1f-4a07-b5bc-1821261a6b04",
   "metadata": {},
   "source": [
    "#### Views"
   ]
  },
  {
   "cell_type": "code",
   "execution_count": 18,
   "id": "05fd21b6-9ea9-429e-8ebc-218e2417fdf3",
   "metadata": {},
   "outputs": [
    {
     "name": "stdout",
     "output_type": "stream",
     "text": [
      "[[1. 1. 1. 1. 1.]\n",
      " [1. 1. 1. 1. 1.]\n",
      " [1. 1. 1. 1. 1.]\n",
      " [1. 1. 1. 1. 1.]\n",
      " [1. 1. 1. 1. 1.]]\n",
      "[[1. 1. 1.]\n",
      " [1. 1. 1.]\n",
      " [1. 1. 1.]\n",
      " [1. 1. 1.]\n",
      " [1. 1. 1.]]\n",
      "[[0. 0. 0.]\n",
      " [0. 0. 0.]\n",
      " [0. 0. 0.]\n",
      " [0. 0. 0.]\n",
      " [0. 0. 0.]]\n",
      "[[0. 1. 0. 1. 0.]\n",
      " [0. 1. 0. 1. 0.]\n",
      " [0. 1. 0. 1. 0.]\n",
      " [0. 1. 0. 1. 0.]\n",
      " [0. 1. 0. 1. 0.]]\n"
     ]
    }
   ],
   "source": [
    "data = np.ones((5, 5))\n",
    "print(data)\n",
    "b = data[:, ::2]\n",
    "print(b)\n",
    "b[:, :] = 0\n",
    "print(b)\n",
    "print(data)"
   ]
  },
  {
   "cell_type": "markdown",
   "id": "ab4c356d-9617-44f1-86c0-5de8992ee45f",
   "metadata": {},
   "source": [
    "#### Reshaping and Resizing"
   ]
  },
  {
   "cell_type": "code",
   "execution_count": 27,
   "id": "868bdd7a-de7d-4e47-b836-166c69c47f13",
   "metadata": {},
   "outputs": [
    {
     "name": "stdout",
     "output_type": "stream",
     "text": [
      "[[1 2]\n",
      " [3 4]]\n",
      "dims (2, 2)\n",
      "[1 2 3 4]\n",
      "dims (4,)\n",
      "[[1 2]\n",
      " [3 4]]\n",
      "[1 2 3 4]\n",
      "[[1 2]\n",
      " [3 4]]\n",
      "[0 1 2 3 4]\n",
      "[[0]\n",
      " [1]\n",
      " [2]\n",
      " [3]\n",
      " [4]]\n",
      "[[0 1 2 3 4]]\n",
      "[[0]\n",
      " [1]\n",
      " [2]\n",
      " [3]\n",
      " [4]]\n",
      "[[0 1 2 3 4]]\n",
      "[[0 0 0]\n",
      " [1 1 1]\n",
      " [2 2 2]\n",
      " [3 3 3]\n",
      " [4 4 4]]\n"
     ]
    }
   ],
   "source": [
    "data = np.array([[1, 2], [3, 4]])\n",
    "print(data)\n",
    "print(\"dims\", data.shape)\n",
    "\n",
    "data = np.reshape(data, 4);\n",
    "print(data)\n",
    "print(\"dims\", data.shape)\n",
    "data = np.reshape(data, (2, 2))\n",
    "print(data)\n",
    "print(data.flatten())\n",
    "print(data)\n",
    "\n",
    "data = np.arange(0, 5)\n",
    "print(data)\n",
    "column = data[:, np.newaxis]\n",
    "print(column)\n",
    "\n",
    "row = data[np.newaxis, :]\n",
    "print(row)\n",
    "\n",
    "column = np.expand_dims(data, axis=1)\n",
    "print(column)\n",
    "row = np.expand_dims(data, axis=0);\n",
    "print(row)\n",
    "np.vstack((data, data, data))\n",
    "data = data[:, np.newaxis]\n",
    "print(np.hstack((data, data, data)))"
   ]
  },
  {
   "cell_type": "markdown",
   "id": "b9b237a9",
   "metadata": {},
   "source": [
    "#### Aggregate Functions"
   ]
  },
  {
   "cell_type": "code",
   "execution_count": 41,
   "id": "6a94e531",
   "metadata": {},
   "outputs": [
    {
     "name": "stdout",
     "output_type": "stream",
     "text": [
      "[[1 2 3]\n",
      " [4 5 6]\n",
      " [7 8 9]]\n",
      "45\n",
      "(3,)\n",
      "(3,)\n"
     ]
    }
   ],
   "source": [
    "data = np.random.normal(size=(15, 15))\n",
    "np.mean(data)\n",
    "\n",
    "data = np.arange(1, 10).reshape(3, 3)\n",
    "print(data)\n",
    "\n",
    "print(np.sum(data))\n",
    "print(np.sum(data, axis=0).shape) # summation in axis 0 (row)\n",
    "print(np.sum(data, axis=1).shape) # summation in axis 1 (column)\n"
   ]
  }
 ],
 "metadata": {
  "kernelspec": {
   "display_name": "Python 3 (ipykernel)",
   "language": "python",
   "name": "python3"
  },
  "language_info": {
   "codemirror_mode": {
    "name": "ipython",
    "version": 3
   },
   "file_extension": ".py",
   "mimetype": "text/x-python",
   "name": "python",
   "nbconvert_exporter": "python",
   "pygments_lexer": "ipython3",
   "version": "3.10.8"
  },
  "toc-autonumbering": false,
  "toc-showcode": false,
  "toc-showmarkdowntxt": false,
  "toc-showtags": false,
  "vscode": {
   "interpreter": {
    "hash": "47820119221088a46226aae6f764b9ae8c09d0f8fce139ff0af7f6adc58d3335"
   }
  }
 },
 "nbformat": 4,
 "nbformat_minor": 5
}
