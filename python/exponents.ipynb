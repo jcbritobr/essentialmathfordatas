{
 "cells": [
  {
   "cell_type": "markdown",
   "id": "b6e1b3a3-35b8-48df-b83e-8357736bb985",
   "metadata": {},
   "source": [
    "# Exponents\n",
    "Exponents multiply a number by itself a specified number of times. When you raise 2 to the third power (expressed as $2^3$ using 3 as superscript), that is multiplying three 2s together.\n",
    "$$2^3=2*2*2*2$$\n",
    "The _base_ is the variable or value we are exponentiating, and exponent is the number of times we multiply the base value. For expression $2^3$, 2 is the base and 3 is the exponent.\n",
    "Exponents have few interesting properties. Say we multiplied $x^2$ and $y^3$ together. If we expand the exponents thats is what we got:\n",
    "$$x^2x^3=(x*x)*(x*x*x)=x^{2+3}=x⁵5$$\n",
    "So, when we multiply exponents together with the same base, we simply add the exponents.\n",
    "\n",
    "**Lets explore the division**. What happens when we divide $x^2$ by $x^5$? We perform a subtraction $x^{2 -5}$:\n",
    "\n",
    "$$\\frac{x^2}{x^5}$$\\\n",
    "$$\\frac{x*x}{x*x*x*x*x}$$\\\n",
    "$$\\frac{1}{x*x*x}$$\\\n",
    "$$\\frac{1}{x^2}=x^{-3}$$"
   ]
  },
  {
   "cell_type": "markdown",
   "id": "e780dd80-72ed-4772-93d7-cf9bb4aab3e3",
   "metadata": {},
   "source": [
    "#### Simplifying expressions with SymPy"
   ]
  },
  {
   "cell_type": "code",
   "execution_count": 2,
   "id": "acf857b9-97d9-43c6-921e-9ec9b116bf27",
   "metadata": {},
   "outputs": [
    {
     "name": "stdout",
     "output_type": "stream",
     "text": [
      "x**(-3)\n"
     ]
    }
   ],
   "source": [
    "from sympy import *\n",
    "x = symbols('x')\n",
    "expr = x**2 / x**5\n",
    "print(expr) # x**(-3)"
   ]
  },
  {
   "cell_type": "markdown",
   "id": "4b8df710-e291-47eb-8bbc-debc76c4bf4f",
   "metadata": {},
   "source": [
    "#### Fractional Exponents\n",
    "They are an alternative way represent roots, such as the square root. As a brief refresher, a $\\sqrt{4}$ asks \"what number multiplied by itself will give me 4?\", which of course is 2. Note that $4^{1/2}$ is the same as $\\sqrt{4}$.\n",
    "Cube roots are similar to square roots, but they seek a number multiplied by itself three times to give a result. A cubed root of 8 is expressed as $\\sqrt[3]{8}$. One last property is the exponent of an exponent will multiply the exponents together. This is known as the _power rule_. So $\\big(8^3\\big)^2$ whould simplify to $8^6$."
   ]
  }
 ],
 "metadata": {
  "kernelspec": {
   "display_name": "Python 3 (ipykernel)",
   "language": "python",
   "name": "python3"
  },
  "language_info": {
   "codemirror_mode": {
    "name": "ipython",
    "version": 3
   },
   "file_extension": ".py",
   "mimetype": "text/x-python",
   "name": "python",
   "nbconvert_exporter": "python",
   "pygments_lexer": "ipython3",
   "version": "3.11.1"
  }
 },
 "nbformat": 4,
 "nbformat_minor": 5
}
