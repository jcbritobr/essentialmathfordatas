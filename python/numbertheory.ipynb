{
 "cells": [
  {
   "cell_type": "markdown",
   "id": "93bd4a2d-63e9-4fd7-8e66-b34f7afec712",
   "metadata": {
    "tags": []
   },
   "source": [
    "# Introduction to Number Theory\n",
    "Number Theory goes all the way back to ancient times, when mathematicians studied different number systems, and it explains why we have accepted them the way we do today. Here are different number systems that you may recognize:\n",
    "* **Natural Numbers** - These are the numbers 1, 2, 3, 4, 5, ... and so on. Only positive numbers are included here, and they are the earliest known system.\n",
    "* **Whole numbers** - The natural numbers with the concept of \"0\".\n",
    "* **Integers** - Integers include positive and negative natural numbers as well as 0.\n",
    "* **Rational numbers** - Rational numbers can be expressed as a fraction, such as 2/3, is a rational number.\n",
    "* **Irrational numbers** - Irrational numbers cant be expressed as a fraction.\n",
    "* **Real numbers** - Real numbers include rational as well as irrational numbers.\n",
    "* **Complex and imaginary numbers** - We encounter this number when we take the square root of a negative number."
   ]
  }
 ],
 "metadata": {
  "kernelspec": {
   "display_name": "Python 3 (ipykernel)",
   "language": "python",
   "name": "python3"
  },
  "language_info": {
   "codemirror_mode": {
    "name": "ipython",
    "version": 3
   },
   "file_extension": ".py",
   "mimetype": "text/x-python",
   "name": "python",
   "nbconvert_exporter": "python",
   "pygments_lexer": "ipython3",
   "version": "3.10.6"
  },
  "vscode": {
   "interpreter": {
    "hash": "b2fefcf1391cb24782ca5683f92c6033bba248af65660f82685686db204af24b"
   }
  }
 },
 "nbformat": 4,
 "nbformat_minor": 5
}
