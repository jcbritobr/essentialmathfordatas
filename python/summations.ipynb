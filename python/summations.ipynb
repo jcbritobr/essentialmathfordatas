{
 "cells": [
  {
   "cell_type": "markdown",
   "metadata": {},
   "source": [
    "# Summations\n",
    "Summations are expressed as sigma $\\Sigma$ and adds elements together. For example, if I want to irerate the number 1 through 5, multiply each other by 2, and sum them, here is how I would express that using a summation.\n",
    "$$\\sum_{i=1}^{5}2i$$\n"
   ]
  },
  {
   "cell_type": "code",
   "execution_count": 9,
   "metadata": {},
   "outputs": [
    {
     "name": "stdout",
     "output_type": "stream",
     "text": [
      "30\n"
     ]
    }
   ],
   "source": [
    "summation = sum(2*i for i in range(1, 6)) # the maximum value of the range is not inclusive\n",
    "print(summation)"
   ]
  },
  {
   "cell_type": "markdown",
   "metadata": {},
   "source": [
    "Note that $i$ is a placeholder variable representing each consecutive index value we are interating in the loop, wihch we multiply by 2 and then sum all together. When you are iterating data, you may see variables like $x_i$ indicating an element in a collection at index $i$.\n",
    "It is also common to see $n$ represent the number of items in a collection, like the number of records in a dataset. Here is one such example where we iterate a collection of numbers of size $n$, multiply each by 10, and sum them:\n",
    "$$\\sum_{i=1}^{n}10x_i$$"
   ]
  },
  {
   "cell_type": "code",
   "execution_count": 10,
   "metadata": {},
   "outputs": [
    {
     "name": "stdout",
     "output_type": "stream",
     "text": [
      "130\n"
     ]
    }
   ],
   "source": [
    "x = [1, 4, 6, 2]\n",
    "n = len(x)\n",
    "summation = sum(10*x[i] for i in range(0, n))\n",
    "print(summation)"
   ]
  },
  {
   "cell_type": "markdown",
   "metadata": {},
   "source": [
    "### Summations in Sympy"
   ]
  },
  {
   "cell_type": "markdown",
   "metadata": {},
   "source": [
    "Summation in Sympy is performed using the **Sum()** operator. In the following code we iterate $i$ from 1 to $n$, multiply each $i$ and sum them."
   ]
  },
  {
   "cell_type": "code",
   "execution_count": 1,
   "metadata": {},
   "outputs": [],
   "source": [
    "from sympy import *"
   ]
  },
  {
   "cell_type": "code",
   "execution_count": 2,
   "metadata": {},
   "outputs": [
    {
     "name": "stdout",
     "output_type": "stream",
     "text": [
      "30\n"
     ]
    }
   ],
   "source": [
    "i, n = symbols('i n')\n",
    "# iterate each element i from 1 to n\n",
    "# then multiply the sum\n",
    "summation = Sum(2 * i, (i, 1, n))\n",
    "\n",
    "# specify n as 5\n",
    "# iterating the numbers 1 through 5\n",
    "up_to_5 = summation.subs(n, 5)\n",
    "print(up_to_5.doit()) # 30"
   ]
  }
 ],
 "metadata": {
  "kernelspec": {
   "display_name": "Python 3 (ipykernel)",
   "language": "python",
   "name": "python3"
  },
  "language_info": {
   "codemirror_mode": {
    "name": "ipython",
    "version": 3
   },
   "file_extension": ".py",
   "mimetype": "text/x-python",
   "name": "python",
   "nbconvert_exporter": "python",
   "pygments_lexer": "ipython3",
   "version": "3.10.6"
  },
  "vscode": {
   "interpreter": {
    "hash": "b2fefcf1391cb24782ca5683f92c6033bba248af65660f82685686db204af24b"
   }
  }
 },
 "nbformat": 4,
 "nbformat_minor": 4
}
