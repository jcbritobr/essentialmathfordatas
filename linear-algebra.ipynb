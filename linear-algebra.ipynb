{
 "cells": [
  {
   "cell_type": "markdown",
   "id": "38d4a46b-412a-41c1-887c-ffcf56940902",
   "metadata": {
    "tags": []
   },
   "source": [
    "# Linear Algebra\n",
    "\n",
    "#### Adding and Combining Vectors"
   ]
  },
  {
   "cell_type": "code",
   "execution_count": 1,
   "id": "8a08acc6-0125-44aa-9469-589d474d2905",
   "metadata": {},
   "outputs": [
    {
     "name": "stdout",
     "output_type": "stream",
     "text": [
      "[5 1]\n"
     ]
    }
   ],
   "source": [
    "from numpy import array\n",
    "\n",
    "v = array([3, 2])\n",
    "w = array([2, -1])\n",
    "\n",
    "v_plus_w = v + w\n",
    "print(v_plus_w)"
   ]
  },
  {
   "cell_type": "markdown",
   "id": "15cc9949-98c2-45af-a1cd-9cef743c08df",
   "metadata": {},
   "source": [
    "* **Matrix vector multiplication in numpy**"
   ]
  },
  {
   "cell_type": "code",
   "execution_count": 2,
   "id": "6dbd87b6-b07d-404f-a38d-e600e1519767",
   "metadata": {},
   "outputs": [
    {
     "name": "stdout",
     "output_type": "stream",
     "text": [
      "[3 2]\n",
      "basis [[2 0]\n",
      " [0 3]]\n",
      "[2 3]\n"
     ]
    }
   ],
   "source": [
    "from numpy import array\n",
    "\n",
    "basis = array(\n",
    "    [[3, 0],\n",
    "     [0, 2]]\n",
    ")\n",
    "v = array([1, 1])\n",
    "new_v = basis.dot(v)\n",
    "print(new_v)\n",
    "\n",
    "# declaring i-hat and j-hat\n",
    "i_hat = array([2, 0])\n",
    "j_hat = array([0, 3])\n",
    "\n",
    "basis = array([i_hat, j_hat]).transpose()\n",
    "print(\"basis\", basis)\n",
    "v = array([1, 1])\n",
    "new_v = basis.dot(v)\n",
    "print(new_v)\n",
    "     "
   ]
  },
  {
   "cell_type": "markdown",
   "id": "81aa9398-61c9-4846-b7fa-7ad5ad324358",
   "metadata": {},
   "source": [
    "* **Combining two Transformations**"
   ]
  },
  {
   "cell_type": "code",
   "execution_count": 14,
   "id": "597b1929-34e9-46f4-a199-3082c7bb67d1",
   "metadata": {},
   "outputs": [
    {
     "name": "stdout",
     "output_type": "stream",
     "text": [
      "[[ 0 -1]\n",
      " [ 1  0]]\n",
      "combined matrix:\n",
      " [[ 1 -1]\n",
      " [ 1  0]]\n",
      "the result of matrix multiplication [-1  1]\n"
     ]
    }
   ],
   "source": [
    "from numpy import array\n",
    "\n",
    "ihat = array([0, 1])\n",
    "jhat = array([-1, 0])\n",
    "\n",
    "transform1 = array([ihat, jhat]).transpose()\n",
    "print(transform1)\n",
    "\n",
    "ihat2, jhat2 = array([1, 0]), array([1, 1])\n",
    "transform2 = array([ihat2, jhat2]).transpose()\n",
    "\n",
    "# combine two transformations\n",
    "combined = transform2 @ transform1\n",
    "\n",
    "# test\n",
    "print(f\"combined matrix:\\n {combined}\")\n",
    "\n",
    "v = array([1, 2])\n",
    "print(f\"the result of matrix multiplication {combined.dot(v)}\")"
   ]
  }
 ],
 "metadata": {
  "kernelspec": {
   "display_name": "Python 3 (ipykernel)",
   "language": "python",
   "name": "python3"
  },
  "language_info": {
   "codemirror_mode": {
    "name": "ipython",
    "version": 3
   },
   "file_extension": ".py",
   "mimetype": "text/x-python",
   "name": "python",
   "nbconvert_exporter": "python",
   "pygments_lexer": "ipython3",
   "version": "3.10.8"
  }
 },
 "nbformat": 4,
 "nbformat_minor": 5
}
