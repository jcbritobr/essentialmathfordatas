{
 "cells": [
  {
   "cell_type": "markdown",
   "id": "fe58581a-3c9a-4f41-97b7-e42c5eaf10a7",
   "metadata": {},
   "source": [
    "# Logarithms\n",
    "A logarithm is a math function that finds a power for a specific number nad base. We start our thinking by asking \"2 raised to _what_ power gives me 8? One way to express this mathematically is to use a x for the exponent:\n",
    "$$2^x=8$$\n",
    "We intuitively know the answere, $x=3$, but we need a more elegant way to express this common math operation. This is what the log() function is for:\n",
    "$$\\log_28=x$$"
   ]
  },
  {
   "cell_type": "code",
   "execution_count": 2,
   "id": "8768abd7-db78-4d0f-abf7-f1d739b52f69",
   "metadata": {},
   "outputs": [
    {
     "name": "stdout",
     "output_type": "stream",
     "text": [
      "3.0\n"
     ]
    }
   ],
   "source": [
    "from math import log\n",
    "# 2 raised to what power gives me 8?\n",
    "x = log(8, 2)\n",
    "print(x)"
   ]
  },
  {
   "cell_type": "markdown",
   "id": "42f1cf26-7481-4b66-90f8-c3b447508986",
   "metadata": {},
   "source": [
    "When we do not supply a base argument to a _log()_ function on a platform like Python, it will typically have a default base. In some fields, like earthquake measurements, the default for the log is 10. But in data science the default base for the log is Euler's number $e$.\n",
    "\n",
    "#### Natural Logarithm\n",
    "When we use $e$ as our base for a logarithm, we call it a _natural logarithm_. Depending on platform we may use _ln()_ instead of _log()_ to specify a natural logarithm. So rather than express a natural $\\log_e10$ to find the power raised on $e$ to get 10, we whould shorthand it as _ln(10)_:\n",
    "$$\\log_e10=ln(10)$$"
   ]
  },
  {
   "cell_type": "code",
   "execution_count": 4,
   "id": "af6caf7c-f336-4d83-b630-ef267ceb3113",
   "metadata": {},
   "outputs": [
    {
     "name": "stdout",
     "output_type": "stream",
     "text": [
      "2.302585092994046\n"
     ]
    }
   ],
   "source": [
    "# e raised to what number gives us 10?\n",
    "x = log(10)\n",
    "print(x)"
   ]
  }
 ],
 "metadata": {
  "kernelspec": {
   "display_name": "Python 3 (ipykernel)",
   "language": "python",
   "name": "python3"
  },
  "language_info": {
   "codemirror_mode": {
    "name": "ipython",
    "version": 3
   },
   "file_extension": ".py",
   "mimetype": "text/x-python",
   "name": "python",
   "nbconvert_exporter": "python",
   "pygments_lexer": "ipython3",
   "version": "3.10.6"
  }
 },
 "nbformat": 4,
 "nbformat_minor": 5
}
