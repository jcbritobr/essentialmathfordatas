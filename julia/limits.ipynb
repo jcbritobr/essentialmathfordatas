{
 "cells": [
  {
   "cell_type": "markdown",
   "id": "1acd6717-26b9-4940-9cf6-9ae1c0af1499",
   "metadata": {},
   "source": [
    "# Limits"
   ]
  },
  {
   "cell_type": "code",
   "execution_count": 1,
   "id": "7f05edf7-e565-4abf-af7c-edcaac24fd5c",
   "metadata": {},
   "outputs": [],
   "source": [
    "using Plots, SymPy"
   ]
  },
  {
   "cell_type": "markdown",
   "id": "60f35459-7887-416d-a9ea-d54ab5bab2a1",
   "metadata": {},
   "source": [
    "Take the function below $f(x)=\\frac{1}{x}$"
   ]
  },
  {
   "cell_type": "code",
   "execution_count": 2,
   "id": "09640449-2b37-41c4-8514-247991f8fe1c",
   "metadata": {},
   "outputs": [
    {
     "data": {
      "text/latex": [
       "$\\frac{1}{x}$"
      ],
      "text/plain": [
       "1\n",
       "-\n",
       "x"
      ]
     },
     "metadata": {},
     "output_type": "display_data"
    }
   ],
   "source": [
    "@vars x;\n",
    "fx = 1/x;\n",
    "display(fx)"
   ]
  },
  {
   "cell_type": "code",
   "execution_count": 5,
   "id": "ebee636d-aea1-4671-bd27-b6284dfe078c",
   "metadata": {},
   "outputs": [
    {
     "data": {
      "image/svg+xml": [
       "<?xml version=\"1.0\" encoding=\"utf-8\"?>\n",
       "<svg xmlns=\"http://www.w3.org/2000/svg\" xmlns:xlink=\"http://www.w3.org/1999/xlink\" width=\"600\" height=\"400\" viewBox=\"0 0 2400 1600\">\n",
       "<defs>\n",
       "  <clipPath id=\"clip560\">\n",
       "    <rect x=\"0\" y=\"0\" width=\"2400\" height=\"1600\"/>\n",
       "  </clipPath>\n",
       "</defs>\n",
       "<path clip-path=\"url(#clip560)\" d=\"\n",
       "M0 1600 L2400 1600 L2400 0 L0 0  Z\n",
       "  \" fill=\"#ffffff\" fill-rule=\"evenodd\" fill-opacity=\"1\"/>\n",
       "<defs>\n",
       "  <clipPath id=\"clip561\">\n",
       "    <rect x=\"480\" y=\"0\" width=\"1681\" height=\"1600\"/>\n",
       "  </clipPath>\n",
       "</defs>\n",
       "<path clip-path=\"url(#clip560)\" d=\"\n",
       "M174.149 1423.18 L2352.76 1423.18 L2352.76 47.2441 L174.149 47.2441  Z\n",
       "  \" fill=\"#ffffff\" fill-rule=\"evenodd\" fill-opacity=\"1\"/>\n",
       "<defs>\n",
       "  <clipPath id=\"clip562\">\n",
       "    <rect x=\"174\" y=\"47\" width=\"2180\" height=\"1377\"/>\n",
       "  </clipPath>\n",
       "</defs>\n",
       "<polyline clip-path=\"url(#clip562)\" style=\"stroke:#000000; stroke-linecap:round; stroke-linejoin:round; stroke-width:2; stroke-opacity:0.1; fill:none\" points=\"\n",
       "  174.149,1423.18 174.149,47.2441 \n",
       "  \"/>\n",
       "<polyline clip-path=\"url(#clip562)\" style=\"stroke:#000000; stroke-linecap:round; stroke-linejoin:round; stroke-width:2; stroke-opacity:0.1; fill:none\" points=\"\n",
       "  669.287,1423.18 669.287,47.2441 \n",
       "  \"/>\n",
       "<polyline clip-path=\"url(#clip562)\" style=\"stroke:#000000; stroke-linecap:round; stroke-linejoin:round; stroke-width:2; stroke-opacity:0.1; fill:none\" points=\"\n",
       "  1164.42,1423.18 1164.42,47.2441 \n",
       "  \"/>\n",
       "<polyline clip-path=\"url(#clip562)\" style=\"stroke:#000000; stroke-linecap:round; stroke-linejoin:round; stroke-width:2; stroke-opacity:0.1; fill:none\" points=\"\n",
       "  1659.56,1423.18 1659.56,47.2441 \n",
       "  \"/>\n",
       "<polyline clip-path=\"url(#clip562)\" style=\"stroke:#000000; stroke-linecap:round; stroke-linejoin:round; stroke-width:2; stroke-opacity:0.1; fill:none\" points=\"\n",
       "  2154.7,1423.18 2154.7,47.2441 \n",
       "  \"/>\n",
       "<polyline clip-path=\"url(#clip560)\" style=\"stroke:#000000; stroke-linecap:round; stroke-linejoin:round; stroke-width:4; stroke-opacity:1; fill:none\" points=\"\n",
       "  174.149,1423.18 2352.76,1423.18 \n",
       "  \"/>\n",
       "<polyline clip-path=\"url(#clip560)\" style=\"stroke:#000000; stroke-linecap:round; stroke-linejoin:round; stroke-width:4; stroke-opacity:1; fill:none\" points=\"\n",
       "  174.149,1423.18 174.149,1404.28 \n",
       "  \"/>\n",
       "<polyline clip-path=\"url(#clip560)\" style=\"stroke:#000000; stroke-linecap:round; stroke-linejoin:round; stroke-width:4; stroke-opacity:1; fill:none\" points=\"\n",
       "  669.287,1423.18 669.287,1404.28 \n",
       "  \"/>\n",
       "<polyline clip-path=\"url(#clip560)\" style=\"stroke:#000000; stroke-linecap:round; stroke-linejoin:round; stroke-width:4; stroke-opacity:1; fill:none\" points=\"\n",
       "  1164.42,1423.18 1164.42,1404.28 \n",
       "  \"/>\n",
       "<polyline clip-path=\"url(#clip560)\" style=\"stroke:#000000; stroke-linecap:round; stroke-linejoin:round; stroke-width:4; stroke-opacity:1; fill:none\" points=\"\n",
       "  1659.56,1423.18 1659.56,1404.28 \n",
       "  \"/>\n",
       "<polyline clip-path=\"url(#clip560)\" style=\"stroke:#000000; stroke-linecap:round; stroke-linejoin:round; stroke-width:4; stroke-opacity:1; fill:none\" points=\"\n",
       "  2154.7,1423.18 2154.7,1404.28 \n",
       "  \"/>\n",
       "<path clip-path=\"url(#clip560)\" d=\"M151.533 1454.1 Q147.922 1454.1 146.094 1457.66 Q144.288 1461.2 144.288 1468.33 Q144.288 1475.44 146.094 1479.01 Q147.922 1482.55 151.533 1482.55 Q155.168 1482.55 156.973 1479.01 Q158.802 1475.44 158.802 1468.33 Q158.802 1461.2 156.973 1457.66 Q155.168 1454.1 151.533 1454.1 M151.533 1450.39 Q157.343 1450.39 160.399 1455 Q163.478 1459.58 163.478 1468.33 Q163.478 1477.06 160.399 1481.67 Q157.343 1486.25 151.533 1486.25 Q145.723 1486.25 142.644 1481.67 Q139.589 1477.06 139.589 1468.33 Q139.589 1459.58 142.644 1455 Q145.723 1450.39 151.533 1450.39 Z\" fill=\"#000000\" fill-rule=\"evenodd\" fill-opacity=\"1\" /><path clip-path=\"url(#clip560)\" d=\"M171.695 1479.7 L176.579 1479.7 L176.579 1485.58 L171.695 1485.58 L171.695 1479.7 Z\" fill=\"#000000\" fill-rule=\"evenodd\" fill-opacity=\"1\" /><path clip-path=\"url(#clip560)\" d=\"M196.765 1454.1 Q193.153 1454.1 191.325 1457.66 Q189.519 1461.2 189.519 1468.33 Q189.519 1475.44 191.325 1479.01 Q193.153 1482.55 196.765 1482.55 Q200.399 1482.55 202.204 1479.01 Q204.033 1475.44 204.033 1468.33 Q204.033 1461.2 202.204 1457.66 Q200.399 1454.1 196.765 1454.1 M196.765 1450.39 Q202.575 1450.39 205.63 1455 Q208.709 1459.58 208.709 1468.33 Q208.709 1477.06 205.63 1481.67 Q202.575 1486.25 196.765 1486.25 Q190.954 1486.25 187.876 1481.67 Q184.82 1477.06 184.82 1468.33 Q184.82 1459.58 187.876 1455 Q190.954 1450.39 196.765 1450.39 Z\" fill=\"#000000\" fill-rule=\"evenodd\" fill-opacity=\"1\" /><path clip-path=\"url(#clip560)\" d=\"M641.023 1481.64 L657.342 1481.64 L657.342 1485.58 L635.398 1485.58 L635.398 1481.64 Q638.06 1478.89 642.643 1474.26 Q647.25 1469.61 648.431 1468.27 Q650.676 1465.74 651.555 1464.01 Q652.458 1462.25 652.458 1460.56 Q652.458 1457.8 650.514 1456.07 Q648.593 1454.33 645.491 1454.33 Q643.292 1454.33 640.838 1455.09 Q638.407 1455.86 635.63 1457.41 L635.63 1452.69 Q638.454 1451.55 640.907 1450.97 Q643.361 1450.39 645.398 1450.39 Q650.768 1450.39 653.963 1453.08 Q657.157 1455.77 657.157 1460.26 Q657.157 1462.39 656.347 1464.31 Q655.56 1466.2 653.454 1468.8 Q652.875 1469.47 649.773 1472.69 Q646.671 1475.88 641.023 1481.64 Z\" fill=\"#000000\" fill-rule=\"evenodd\" fill-opacity=\"1\" /><path clip-path=\"url(#clip560)\" d=\"M667.157 1479.7 L672.041 1479.7 L672.041 1485.58 L667.157 1485.58 L667.157 1479.7 Z\" fill=\"#000000\" fill-rule=\"evenodd\" fill-opacity=\"1\" /><path clip-path=\"url(#clip560)\" d=\"M682.273 1451.02 L700.629 1451.02 L700.629 1454.96 L686.555 1454.96 L686.555 1463.43 Q687.574 1463.08 688.592 1462.92 Q689.611 1462.73 690.629 1462.73 Q696.416 1462.73 699.796 1465.9 Q703.176 1469.08 703.176 1474.49 Q703.176 1480.07 699.703 1483.17 Q696.231 1486.25 689.912 1486.25 Q687.736 1486.25 685.467 1485.88 Q683.222 1485.51 680.815 1484.77 L680.815 1480.07 Q682.898 1481.2 685.12 1481.76 Q687.342 1482.32 689.819 1482.32 Q693.824 1482.32 696.162 1480.21 Q698.5 1478.1 698.5 1474.49 Q698.5 1470.88 696.162 1468.77 Q693.824 1466.67 689.819 1466.67 Q687.944 1466.67 686.069 1467.08 Q684.217 1467.5 682.273 1468.38 L682.273 1451.02 Z\" fill=\"#000000\" fill-rule=\"evenodd\" fill-opacity=\"1\" /><path clip-path=\"url(#clip560)\" d=\"M1131.59 1451.02 L1149.95 1451.02 L1149.95 1454.96 L1135.87 1454.96 L1135.87 1463.43 Q1136.89 1463.08 1137.91 1462.92 Q1138.93 1462.73 1139.95 1462.73 Q1145.73 1462.73 1149.11 1465.9 Q1152.49 1469.08 1152.49 1474.49 Q1152.49 1480.07 1149.02 1483.17 Q1145.55 1486.25 1139.23 1486.25 Q1137.05 1486.25 1134.78 1485.88 Q1132.54 1485.51 1130.13 1484.77 L1130.13 1480.07 Q1132.21 1481.2 1134.44 1481.76 Q1136.66 1482.32 1139.14 1482.32 Q1143.14 1482.32 1145.48 1480.21 Q1147.82 1478.1 1147.82 1474.49 Q1147.82 1470.88 1145.48 1468.77 Q1143.14 1466.67 1139.14 1466.67 Q1137.26 1466.67 1135.39 1467.08 Q1133.53 1467.5 1131.59 1468.38 L1131.59 1451.02 Z\" fill=\"#000000\" fill-rule=\"evenodd\" fill-opacity=\"1\" /><path clip-path=\"url(#clip560)\" d=\"M1161.7 1479.7 L1166.59 1479.7 L1166.59 1485.58 L1161.7 1485.58 L1161.7 1479.7 Z\" fill=\"#000000\" fill-rule=\"evenodd\" fill-opacity=\"1\" /><path clip-path=\"url(#clip560)\" d=\"M1186.77 1454.1 Q1183.16 1454.1 1181.33 1457.66 Q1179.53 1461.2 1179.53 1468.33 Q1179.53 1475.44 1181.33 1479.01 Q1183.16 1482.55 1186.77 1482.55 Q1190.41 1482.55 1192.21 1479.01 Q1194.04 1475.44 1194.04 1468.33 Q1194.04 1461.2 1192.21 1457.66 Q1190.41 1454.1 1186.77 1454.1 M1186.77 1450.39 Q1192.58 1450.39 1195.64 1455 Q1198.72 1459.58 1198.72 1468.33 Q1198.72 1477.06 1195.64 1481.67 Q1192.58 1486.25 1186.77 1486.25 Q1180.96 1486.25 1177.89 1481.67 Q1174.83 1477.06 1174.83 1468.33 Q1174.83 1459.58 1177.89 1455 Q1180.96 1450.39 1186.77 1450.39 Z\" fill=\"#000000\" fill-rule=\"evenodd\" fill-opacity=\"1\" /><path clip-path=\"url(#clip560)\" d=\"M1625.88 1451.02 L1648.1 1451.02 L1648.1 1453.01 L1635.56 1485.58 L1630.67 1485.58 L1642.48 1454.96 L1625.88 1454.96 L1625.88 1451.02 Z\" fill=\"#000000\" fill-rule=\"evenodd\" fill-opacity=\"1\" /><path clip-path=\"url(#clip560)\" d=\"M1657.22 1479.7 L1662.11 1479.7 L1662.11 1485.58 L1657.22 1485.58 L1657.22 1479.7 Z\" fill=\"#000000\" fill-rule=\"evenodd\" fill-opacity=\"1\" /><path clip-path=\"url(#clip560)\" d=\"M1672.34 1451.02 L1690.7 1451.02 L1690.7 1454.96 L1676.62 1454.96 L1676.62 1463.43 Q1677.64 1463.08 1678.66 1462.92 Q1679.68 1462.73 1680.7 1462.73 Q1686.48 1462.73 1689.86 1465.9 Q1693.24 1469.08 1693.24 1474.49 Q1693.24 1480.07 1689.77 1483.17 Q1686.3 1486.25 1679.98 1486.25 Q1677.8 1486.25 1675.53 1485.88 Q1673.29 1485.51 1670.88 1484.77 L1670.88 1480.07 Q1672.97 1481.2 1675.19 1481.76 Q1677.41 1482.32 1679.89 1482.32 Q1683.89 1482.32 1686.23 1480.21 Q1688.57 1478.1 1688.57 1474.49 Q1688.57 1470.88 1686.23 1468.77 Q1683.89 1466.67 1679.89 1466.67 Q1678.01 1466.67 1676.14 1467.08 Q1674.28 1467.5 1672.34 1468.38 L1672.34 1451.02 Z\" fill=\"#000000\" fill-rule=\"evenodd\" fill-opacity=\"1\" /><path clip-path=\"url(#clip560)\" d=\"M2106.77 1481.64 L2114.41 1481.64 L2114.41 1455.28 L2106.1 1456.95 L2106.1 1452.69 L2114.37 1451.02 L2119.04 1451.02 L2119.04 1481.64 L2126.68 1481.64 L2126.68 1485.58 L2106.77 1485.58 L2106.77 1481.64 Z\" fill=\"#000000\" fill-rule=\"evenodd\" fill-opacity=\"1\" /><path clip-path=\"url(#clip560)\" d=\"M2146.12 1454.1 Q2142.51 1454.1 2140.68 1457.66 Q2138.88 1461.2 2138.88 1468.33 Q2138.88 1475.44 2140.68 1479.01 Q2142.51 1482.55 2146.12 1482.55 Q2149.76 1482.55 2151.56 1479.01 Q2153.39 1475.44 2153.39 1468.33 Q2153.39 1461.2 2151.56 1457.66 Q2149.76 1454.1 2146.12 1454.1 M2146.12 1450.39 Q2151.93 1450.39 2154.99 1455 Q2158.07 1459.58 2158.07 1468.33 Q2158.07 1477.06 2154.99 1481.67 Q2151.93 1486.25 2146.12 1486.25 Q2140.31 1486.25 2137.24 1481.67 Q2134.18 1477.06 2134.18 1468.33 Q2134.18 1459.58 2137.24 1455 Q2140.31 1450.39 2146.12 1450.39 Z\" fill=\"#000000\" fill-rule=\"evenodd\" fill-opacity=\"1\" /><path clip-path=\"url(#clip560)\" d=\"M2166.29 1479.7 L2171.17 1479.7 L2171.17 1485.58 L2166.29 1485.58 L2166.29 1479.7 Z\" fill=\"#000000\" fill-rule=\"evenodd\" fill-opacity=\"1\" /><path clip-path=\"url(#clip560)\" d=\"M2191.36 1454.1 Q2187.74 1454.1 2185.92 1457.66 Q2184.11 1461.2 2184.11 1468.33 Q2184.11 1475.44 2185.92 1479.01 Q2187.74 1482.55 2191.36 1482.55 Q2194.99 1482.55 2196.8 1479.01 Q2198.62 1475.44 2198.62 1468.33 Q2198.62 1461.2 2196.8 1457.66 Q2194.99 1454.1 2191.36 1454.1 M2191.36 1450.39 Q2197.17 1450.39 2200.22 1455 Q2203.3 1459.58 2203.3 1468.33 Q2203.3 1477.06 2200.22 1481.67 Q2197.17 1486.25 2191.36 1486.25 Q2185.55 1486.25 2182.47 1481.67 Q2179.41 1477.06 2179.41 1468.33 Q2179.41 1459.58 2182.47 1455 Q2185.55 1450.39 2191.36 1450.39 Z\" fill=\"#000000\" fill-rule=\"evenodd\" fill-opacity=\"1\" /><path clip-path=\"url(#clip560)\" d=\"M1280.07 1532.4 L1267.18 1549.74 L1280.74 1568.04 L1273.83 1568.04 L1263.45 1554.04 L1253.08 1568.04 L1246.17 1568.04 L1260.01 1549.39 L1247.35 1532.4 L1254.25 1532.4 L1263.71 1545.1 L1273.16 1532.4 L1280.07 1532.4 Z\" fill=\"#000000\" fill-rule=\"evenodd\" fill-opacity=\"1\" /><polyline clip-path=\"url(#clip562)\" style=\"stroke:#000000; stroke-linecap:round; stroke-linejoin:round; stroke-width:2; stroke-opacity:0.1; fill:none\" points=\"\n",
       "  174.149,1423.18 2352.76,1423.18 \n",
       "  \"/>\n",
       "<polyline clip-path=\"url(#clip562)\" style=\"stroke:#000000; stroke-linecap:round; stroke-linejoin:round; stroke-width:2; stroke-opacity:0.1; fill:none\" points=\"\n",
       "  174.149,964.535 2352.76,964.535 \n",
       "  \"/>\n",
       "<polyline clip-path=\"url(#clip562)\" style=\"stroke:#000000; stroke-linecap:round; stroke-linejoin:round; stroke-width:2; stroke-opacity:0.1; fill:none\" points=\"\n",
       "  174.149,505.889 2352.76,505.889 \n",
       "  \"/>\n",
       "<polyline clip-path=\"url(#clip562)\" style=\"stroke:#000000; stroke-linecap:round; stroke-linejoin:round; stroke-width:2; stroke-opacity:0.1; fill:none\" points=\"\n",
       "  174.149,47.2441 2352.76,47.2441 \n",
       "  \"/>\n",
       "<polyline clip-path=\"url(#clip560)\" style=\"stroke:#000000; stroke-linecap:round; stroke-linejoin:round; stroke-width:4; stroke-opacity:1; fill:none\" points=\"\n",
       "  174.149,1423.18 174.149,47.2441 \n",
       "  \"/>\n",
       "<polyline clip-path=\"url(#clip560)\" style=\"stroke:#000000; stroke-linecap:round; stroke-linejoin:round; stroke-width:4; stroke-opacity:1; fill:none\" points=\"\n",
       "  174.149,1423.18 193.047,1423.18 \n",
       "  \"/>\n",
       "<polyline clip-path=\"url(#clip560)\" style=\"stroke:#000000; stroke-linecap:round; stroke-linejoin:round; stroke-width:4; stroke-opacity:1; fill:none\" points=\"\n",
       "  174.149,964.535 193.047,964.535 \n",
       "  \"/>\n",
       "<polyline clip-path=\"url(#clip560)\" style=\"stroke:#000000; stroke-linecap:round; stroke-linejoin:round; stroke-width:4; stroke-opacity:1; fill:none\" points=\"\n",
       "  174.149,505.889 193.047,505.889 \n",
       "  \"/>\n",
       "<polyline clip-path=\"url(#clip560)\" style=\"stroke:#000000; stroke-linecap:round; stroke-linejoin:round; stroke-width:4; stroke-opacity:1; fill:none\" points=\"\n",
       "  174.149,47.2441 193.047,47.2441 \n",
       "  \"/>\n",
       "<path clip-path=\"url(#clip560)\" d=\"M126.205 1408.98 Q122.593 1408.98 120.765 1412.54 Q118.959 1416.08 118.959 1423.21 Q118.959 1430.32 120.765 1433.89 Q122.593 1437.43 126.205 1437.43 Q129.839 1437.43 131.644 1433.89 Q133.473 1430.32 133.473 1423.21 Q133.473 1416.08 131.644 1412.54 Q129.839 1408.98 126.205 1408.98 M126.205 1405.27 Q132.015 1405.27 135.07 1409.88 Q138.149 1414.46 138.149 1423.21 Q138.149 1431.94 135.07 1436.55 Q132.015 1441.13 126.205 1441.13 Q120.394 1441.13 117.316 1436.55 Q114.26 1431.94 114.26 1423.21 Q114.26 1414.46 117.316 1409.88 Q120.394 1405.27 126.205 1405.27 Z\" fill=\"#000000\" fill-rule=\"evenodd\" fill-opacity=\"1\" /><path clip-path=\"url(#clip560)\" d=\"M118.242 977.879 L125.88 977.879 L125.88 951.514 L117.57 953.18 L117.57 948.921 L125.834 947.255 L130.51 947.255 L130.51 977.879 L138.149 977.879 L138.149 981.815 L118.242 981.815 L118.242 977.879 Z\" fill=\"#000000\" fill-rule=\"evenodd\" fill-opacity=\"1\" /><path clip-path=\"url(#clip560)\" d=\"M121.83 519.234 L138.149 519.234 L138.149 523.169 L116.205 523.169 L116.205 519.234 Q118.867 516.48 123.45 511.85 Q128.056 507.197 129.237 505.855 Q131.482 503.331 132.362 501.595 Q133.265 499.836 133.265 498.146 Q133.265 495.392 131.32 493.656 Q129.399 491.92 126.297 491.92 Q124.098 491.92 121.644 492.683 Q119.214 493.447 116.436 494.998 L116.436 490.276 Q119.26 489.142 121.714 488.563 Q124.168 487.984 126.205 487.984 Q131.575 487.984 134.769 490.67 Q137.964 493.355 137.964 497.845 Q137.964 499.975 137.154 501.896 Q136.367 503.794 134.26 506.387 Q133.681 507.058 130.58 510.276 Q127.478 513.47 121.83 519.234 Z\" fill=\"#000000\" fill-rule=\"evenodd\" fill-opacity=\"1\" /><path clip-path=\"url(#clip560)\" d=\"M131.019 45.8899 Q134.376 46.6075 136.251 48.876 Q138.149 51.1445 138.149 54.4779 Q138.149 59.5936 134.63 62.3945 Q131.112 65.1954 124.63 65.1954 Q122.455 65.1954 120.14 64.7556 Q117.848 64.3389 115.394 63.4824 L115.394 58.9686 Q117.339 60.1028 119.654 60.6815 Q121.968 61.2602 124.492 61.2602 Q128.89 61.2602 131.181 59.5241 Q133.496 57.788 133.496 54.4779 Q133.496 51.4223 131.343 49.7094 Q129.214 47.9733 125.394 47.9733 L121.367 47.9733 L121.367 44.1307 L125.58 44.1307 Q129.029 44.1307 130.857 42.765 Q132.686 41.3761 132.686 38.7835 Q132.686 36.1215 130.788 34.7094 Q128.913 33.2743 125.394 33.2743 Q123.473 33.2743 121.274 33.6909 Q119.075 34.1076 116.436 34.9872 L116.436 30.8206 Q119.098 30.0798 121.413 29.7095 Q123.751 29.3391 125.811 29.3391 Q131.135 29.3391 134.237 31.7696 Q137.339 34.177 137.339 38.2974 Q137.339 41.1677 135.695 43.1585 Q134.052 45.1261 131.019 45.8899 Z\" fill=\"#000000\" fill-rule=\"evenodd\" fill-opacity=\"1\" /><path clip-path=\"url(#clip560)\" d=\"M14.479 741.466 L19.3487 741.466 L19.3487 747.068 Q19.3487 750.219 20.6219 751.46 Q21.895 752.67 25.2052 752.67 L28.3562 752.67 L28.3562 743.026 L32.9077 743.026 L32.9077 752.67 L64.0042 752.67 L64.0042 758.558 L32.9077 758.558 L32.9077 764.16 L28.3562 764.16 L28.3562 758.558 L25.8736 758.558 Q19.9216 758.558 17.2162 755.789 Q14.479 753.02 14.479 747.004 L14.479 741.466 Z\" fill=\"#000000\" fill-rule=\"evenodd\" fill-opacity=\"1\" /><path clip-path=\"url(#clip560)\" d=\"M28.3562 706.932 L45.7028 719.823 L64.0042 706.264 L64.0042 713.171 L49.9996 723.547 L64.0042 733.923 L64.0042 740.83 L45.3526 726.984 L28.3562 739.652 L28.3562 732.745 L41.0558 723.292 L28.3562 713.839 L28.3562 706.932 Z\" fill=\"#000000\" fill-rule=\"evenodd\" fill-opacity=\"1\" /><polyline clip-path=\"url(#clip562)\" style=\"stroke:#009af9; stroke-linecap:round; stroke-linejoin:round; stroke-width:4; stroke-opacity:1; fill:none\" points=\"\n",
       "  174.26,-818318 174.371,-408447 174.481,-271824 174.592,-203512 174.703,-162525 174.814,-135200 174.925,-115683 175.035,-101044 175.146,-89659.2 175.257,-80550.9 \n",
       "  175.368,-73098.7 175.479,-66888.6 175.589,-61633.8 175.7,-57129.8 175.811,-53226.2 175.922,-49810.6 176.033,-46796.9 176.144,-44118 176.254,-41721.1 176.365,-39563.9 \n",
       "  176.587,-35837.8 176.808,-32732.7 177.03,-30105.3 177.252,-27853.3 177.473,-25901.5 177.695,-24193.7 177.917,-22686.9 178.138,-21347.4 178.36,-20149 178.581,-19070.4 \n",
       "  179.025,-17207.3 179.468,-15654.8 179.911,-14341.1 180.354,-13215.1 180.798,-12239.2 181.241,-11385.3 181.684,-10631.8 182.127,-9962.11 182.571,-9362.89 183.014,-8823.59 \n",
       "  183.9,-7892.06 184.787,-7115.79 185.673,-6458.95 186.56,-5895.94 187.003,-5643.55 187.446,-5408 187.89,-5187.64 188.333,-4981.05 192.431,-3545.38 196.53,-2635.52 \n",
       "  200.628,-2007.31 204.727,-1547.51 212.924,-919.509 221.121,-510.691 229.317,-223.357 237.514,-10.362 245.711,153.839 253.908,284.29 270.302,478.468 286.696,616.077 \n",
       "  303.09,718.694 319.484,798.16 339.188,872.782 358.892,931.485 378.596,978.873 398.3,1017.93 431.619,1070.37 464.938,1110.8 501.132,1145.38 537.326,1173.06 \n",
       "  570.693,1194.11 604.061,1211.89 675.608,1242.03 758.502,1267.73 832.168,1285.13 896.767,1297.47 967.197,1308.64 1038.05,1318.03 1116.38,1326.77 1190.91,1333.84 \n",
       "  1268.41,1340.17 1333.64,1344.84 1413.28,1349.87 1486.24,1353.95 1553.63,1357.33 1621.88,1360.44 1698.38,1363.58 1767.7,1366.18 1847.06,1368.88 1920.55,1371.17 \n",
       "  1993,1373.24 2063.34,1375.1 2135.44,1376.87 2214.45,1378.66 2329.21,1381.03 2352.76,1381.48 \n",
       "  \"/>\n",
       "<path clip-path=\"url(#clip560)\" d=\"\n",
       "M2009.84 196.789 L2280.14 196.789 L2280.14 93.1086 L2009.84 93.1086  Z\n",
       "  \" fill=\"#ffffff\" fill-rule=\"evenodd\" fill-opacity=\"1\"/>\n",
       "<polyline clip-path=\"url(#clip560)\" style=\"stroke:#000000; stroke-linecap:round; stroke-linejoin:round; stroke-width:4; stroke-opacity:1; fill:none\" points=\"\n",
       "  2009.84,196.789 2280.14,196.789 2280.14,93.1086 2009.84,93.1086 2009.84,196.789 \n",
       "  \"/>\n",
       "<polyline clip-path=\"url(#clip560)\" style=\"stroke:#009af9; stroke-linecap:round; stroke-linejoin:round; stroke-width:4; stroke-opacity:1; fill:none\" points=\"\n",
       "  2034.05,144.949 2179.29,144.949 \n",
       "  \"/>\n",
       "<path clip-path=\"url(#clip560)\" d=\"M2217.34 164.636 Q2215.54 169.266 2213.82 170.678 Q2212.11 172.09 2209.24 172.09 L2205.84 172.09 L2205.84 168.525 L2208.34 168.525 Q2210.1 168.525 2211.07 167.692 Q2212.04 166.858 2213.22 163.756 L2213.98 161.812 L2203.5 136.303 L2208.01 136.303 L2216.11 156.581 L2224.22 136.303 L2228.73 136.303 L2217.34 164.636 Z\" fill=\"#000000\" fill-rule=\"evenodd\" fill-opacity=\"1\" /><path clip-path=\"url(#clip560)\" d=\"M2236.02 158.293 L2243.66 158.293 L2243.66 131.928 L2235.35 133.595 L2235.35 129.335 L2243.61 127.669 L2248.29 127.669 L2248.29 158.293 L2255.93 158.293 L2255.93 162.229 L2236.02 162.229 L2236.02 158.293 Z\" fill=\"#000000\" fill-rule=\"evenodd\" fill-opacity=\"1\" /></svg>\n"
      ]
     },
     "execution_count": 5,
     "metadata": {},
     "output_type": "execute_result"
    }
   ],
   "source": [
    "plot(fx, xlims=(0, 11), ylims=(0, 3), xlabel=\"x\", ylabel=\"fx\")"
   ]
  },
  {
   "cell_type": "markdown",
   "id": "4e9a6753-f773-40b5-bf47-e6a1bf40e423",
   "metadata": {},
   "source": [
    "We are looking only positive values of $x$. Notice, as x forever increases, $f(x)$ gets closer to 0. Fascinatingly, $f(x)$ never actually reaches 0. It just forever keeps getting closer. The fate of this function is, as x forever extends into infinity, it will keep getting closer to 0 but never reach 0. The way we express a value that is forever being approached, but never reached, is through a limit:\n",
    "$$\n",
    "\\lim_{x\\to\\infty}\\frac{1}{x}\n",
    "$$\n",
    "\n",
    "We have an example below of how to use _SymPy_ to calculate limits. We can calculate what value we approach for $f(x)=\\frac{1}{x}$, as $x$ approachs infinity $\\infty$. Note that $\\infty$ is cleaverly expressed as **oo**:"
   ]
  },
  {
   "cell_type": "code",
   "execution_count": 8,
   "id": "448e289d-012f-434e-9bb9-cb9f7396fb7b",
   "metadata": {},
   "outputs": [
    {
     "data": {
      "text/latex": [
       "$0$"
      ],
      "text/plain": [
       "0"
      ]
     },
     "execution_count": 8,
     "metadata": {},
     "output_type": "execute_result"
    }
   ],
   "source": [
    "@syms x::real;\n",
    "f = 1/x;\n",
    "lim = limit(f, x => oo)"
   ]
  },
  {
   "cell_type": "markdown",
   "id": "95daa8c4-73c9-4fcb-9189-d63de226ef71",
   "metadata": {},
   "source": [
    "We can calculate Euler's number $e$ this way to. It is the result of forever extending $n$ into infinity for this function:\n",
    "$$\n",
    "\\lim_{n\\to\\infty}\\big(1+\\frac{1}{n}\\big)^n = e = 2.71828169413...\n",
    "$$"
   ]
  },
  {
   "cell_type": "code",
   "execution_count": 17,
   "id": "e5f8a4b8-3c12-4e7c-892b-daa083ca8fda",
   "metadata": {},
   "outputs": [
    {
     "data": {
      "text/latex": [
       "$\\left(1 + \\frac{1}{n}\\right)^{n}$"
      ],
      "text/plain": [
       "       n\n",
       "/    1\\ \n",
       "|1 + -| \n",
       "\\    n/ "
      ]
     },
     "metadata": {},
     "output_type": "display_data"
    },
    {
     "data": {
      "text/latex": [
       "$e$"
      ],
      "text/plain": [
       "e"
      ]
     },
     "metadata": {},
     "output_type": "display_data"
    }
   ],
   "source": [
    "@syms n::real;\n",
    "f = (1+(1/n))^n;\n",
    "display(f);\n",
    "lim = limit(f, n => oo);\n",
    "display(lim);"
   ]
  }
 ],
 "metadata": {
  "kernelspec": {
   "display_name": "Julia 1.8.5",
   "language": "julia",
   "name": "julia-1.8"
  },
  "language_info": {
   "file_extension": ".jl",
   "mimetype": "application/julia",
   "name": "julia",
   "version": "1.8.5"
  }
 },
 "nbformat": 4,
 "nbformat_minor": 5
}
