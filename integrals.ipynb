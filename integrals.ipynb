{
 "cells": [
  {
   "cell_type": "code",
   "execution_count": 2,
   "id": "72a9e719-04a1-4a4d-851f-15ed2be469e8",
   "metadata": {},
   "outputs": [],
   "source": [
    "from sympy import *\n",
    "import numpy as np\n",
    "import matplotlib.pyplot as plt"
   ]
  },
  {
   "cell_type": "code",
   "execution_count": 9,
   "id": "f146f035-fb91-4a1c-841c-2d9aa4946c20",
   "metadata": {},
   "outputs": [
    {
     "name": "stdout",
     "output_type": "stream",
     "text": [
      "1.33\n",
      "1.3333333333332733\n"
     ]
    }
   ],
   "source": [
    "def aproximate_integral(a, b, n, f):\n",
    "    delta_x = (b - a) / n\n",
    "    total_sum = 0\n",
    "    \n",
    "    for i in range(1, n + 1):\n",
    "        midpoint = 0.5 * (2 * a + delta_x * (2 * i -1))\n",
    "        total_sum += f(midpoint)\n",
    "    return total_sum * delta_x\n",
    "\n",
    "def my_function(x):\n",
    "    return x**2 + 1\n",
    "\n",
    "area = aproximate_integral(a=0, b=1, n=5, f=my_function)\n",
    "print(area)\n",
    "area = aproximate_integral(a=0, b=1, n=1_000_000, f=my_function)\n",
    "print(area)"
   ]
  },
  {
   "cell_type": "code",
   "execution_count": 11,
   "id": "5e151204-6e87-46b7-b1f4-06eaa9d4ac91",
   "metadata": {},
   "outputs": [
    {
     "name": "stdout",
     "output_type": "stream",
     "text": [
      "4/3\n"
     ]
    }
   ],
   "source": [
    "x = symbols('x')\n",
    "f = x**2 + 1\n",
    "area = integrate(f, (x, 0, 1))\n",
    "print(area)"
   ]
  },
  {
   "cell_type": "markdown",
   "id": "b554f3d6-84f5-4b96-83c6-f37d10806806",
   "metadata": {},
   "source": [
    "### Calculating Integrals with Limit"
   ]
  },
  {
   "cell_type": "code",
   "execution_count": 12,
   "id": "17c5f745-d88b-4564-b028-96cb4adb8fc7",
   "metadata": {},
   "outputs": [
    {
     "name": "stdout",
     "output_type": "stream",
     "text": [
      "4/3\n"
     ]
    }
   ],
   "source": [
    "x, i, n = symbols('x i n')\n",
    "f = x**2 +  1\n",
    "lower, upper = 0, 1\n",
    "delta_x = ((upper - lower) / n)\n",
    "x_i = (lower + delta_x * i)\n",
    "fx_i = f.subs(x, x_i)\n",
    "nrectangles = Sum(delta_x * fx_i, (i, 1, n)).doit()\n",
    "\n",
    "area = limit(nrectangles, n, oo)\n",
    "print(area)"
   ]
  }
 ],
 "metadata": {
  "kernelspec": {
   "display_name": "Python 3 (ipykernel)",
   "language": "python",
   "name": "python3"
  },
  "language_info": {
   "codemirror_mode": {
    "name": "ipython",
    "version": 3
   },
   "file_extension": ".py",
   "mimetype": "text/x-python",
   "name": "python",
   "nbconvert_exporter": "python",
   "pygments_lexer": "ipython3",
   "version": "3.10.6"
  }
 },
 "nbformat": 4,
 "nbformat_minor": 5
}
