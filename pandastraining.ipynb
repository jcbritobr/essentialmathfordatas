{
 "cells": [
  {
   "cell_type": "markdown",
   "id": "61766bdc-70c8-422d-a619-1a9d0ced66cd",
   "metadata": {},
   "source": [
    "# Pandas Training"
   ]
  },
  {
   "cell_type": "code",
   "execution_count": 94,
   "id": "4a33293d-2726-498b-8245-85d88bbece8e",
   "metadata": {},
   "outputs": [],
   "source": [
    "import pandas as pd\n",
    "import matplotlib.pyplot as plt\n",
    "import numpy as np\n",
    "import matplotlib.dates as mdates"
   ]
  },
  {
   "cell_type": "markdown",
   "id": "e74cb67b-6645-4353-ad8f-ba391f47cc99",
   "metadata": {},
   "source": [
    "### Create Series and DataFrames"
   ]
  },
  {
   "cell_type": "code",
   "execution_count": 133,
   "id": "85efb45e-4b4f-4dcb-b8a4-f1689d7ea48a",
   "metadata": {},
   "outputs": [
    {
     "data": {
      "text/html": [
       "<div>\n",
       "<style scoped>\n",
       "    .dataframe tbody tr th:only-of-type {\n",
       "        vertical-align: middle;\n",
       "    }\n",
       "\n",
       "    .dataframe tbody tr th {\n",
       "        vertical-align: top;\n",
       "    }\n",
       "\n",
       "    .dataframe thead th {\n",
       "        text-align: right;\n",
       "    }\n",
       "</style>\n",
       "<table border=\"1\" class=\"dataframe\">\n",
       "  <thead>\n",
       "    <tr style=\"text-align: right;\">\n",
       "      <th></th>\n",
       "      <th>products</th>\n",
       "      <th>price</th>\n",
       "    </tr>\n",
       "  </thead>\n",
       "  <tbody>\n",
       "    <tr>\n",
       "      <th>0</th>\n",
       "      <td>house</td>\n",
       "      <td>76387.398198</td>\n",
       "    </tr>\n",
       "    <tr>\n",
       "      <th>1</th>\n",
       "      <td>boat</td>\n",
       "      <td>13456.401096</td>\n",
       "    </tr>\n",
       "    <tr>\n",
       "      <th>2</th>\n",
       "      <td>airplane</td>\n",
       "      <td>30273.274593</td>\n",
       "    </tr>\n",
       "    <tr>\n",
       "      <th>3</th>\n",
       "      <td>bike</td>\n",
       "      <td>42003.702445</td>\n",
       "    </tr>\n",
       "  </tbody>\n",
       "</table>\n",
       "</div>"
      ],
      "text/plain": [
       "   products         price\n",
       "0     house  76387.398198\n",
       "1      boat  13456.401096\n",
       "2  airplane  30273.274593\n",
       "3      bike  42003.702445"
      ]
     },
     "metadata": {},
     "output_type": "display_data"
    },
    {
     "data": {
      "text/plain": [
       "0    76387.398198\n",
       "1    13456.401096\n",
       "2    30273.274593\n",
       "3    42003.702445\n",
       "Name: price, dtype: float64"
      ]
     },
     "metadata": {},
     "output_type": "display_data"
    },
    {
     "data": {
      "text/plain": [
       "products     object\n",
       "price       float64\n",
       "dtype: object"
      ]
     },
     "metadata": {},
     "output_type": "display_data"
    },
    {
     "name": "stdout",
     "output_type": "stream",
     "text": [
      ">> using the index 4\n"
     ]
    }
   ],
   "source": [
    "product = [\"house\", \"boat\", \"airplane\", \"bike\"]\n",
    "sproduct = pd.Series(product)\n",
    "# display(sproduct)\n",
    "\n",
    "sprice = pd.Series(np.random.uniform(500, 100000, size=4))\n",
    "# print(sprice)\n",
    "\n",
    "# create a dataframe with series above\n",
    "df = pd.DataFrame({\"products\": sproduct, \"price\": sprice})\n",
    "display(df)\n",
    "\n",
    "display(df[\"price\"])\n",
    "display(df.dtypes)\n",
    "\n",
    "# create a serie with a custom index\n",
    "new_serie = pd.Series([2, 4, 6, 8], index=['a', 'b', 'c', 'd'])\n",
    "print(\">> using the index\", new_serie['b'])"
   ]
  },
  {
   "cell_type": "markdown",
   "id": "2439c4fd-a45f-4ed3-a5b2-10eb5ae6eca5",
   "metadata": {},
   "source": [
    "### Examining the properties of a Series"
   ]
  },
  {
   "cell_type": "code",
   "execution_count": 137,
   "id": "8fb615df-c200-4c3a-b85b-aea048885888",
   "metadata": {},
   "outputs": [
    {
     "name": "stdout",
     "output_type": "stream",
     "text": [
      "4\n",
      "4\n",
      "(4,)\n"
     ]
    }
   ],
   "source": [
    "# finding the size of a serie\n",
    "print(new_serie.size)\n",
    "print(len(new_serie))\n",
    "print(new_serie.shape)\n"
   ]
  },
  {
   "cell_type": "markdown",
   "id": "43809b68-87da-459e-9cdf-64b3bf3a7b31",
   "metadata": {},
   "source": [
    "#### Accessing the values of the individual elements in a Series"
   ]
  },
  {
   "cell_type": "code",
   "execution_count": 140,
   "id": "f072cdbe-257f-440a-aa7e-a3427eb1e29f",
   "metadata": {},
   "outputs": [
    {
     "name": "stdout",
     "output_type": "stream",
     "text": [
      "[2 4 6 8]\n"
     ]
    }
   ],
   "source": [
    "print(new_serie.values)"
   ]
  },
  {
   "cell_type": "markdown",
   "id": "991aed9f-5d60-441e-b778-0be6e92502a1",
   "metadata": {},
   "source": [
    "#### Accessing the index of a Series"
   ]
  },
  {
   "cell_type": "code",
   "execution_count": 142,
   "id": "1ebb52ec-0f3d-4ddb-8bc5-46d6f6418f38",
   "metadata": {},
   "outputs": [
    {
     "name": "stdout",
     "output_type": "stream",
     "text": [
      "Index(['a', 'b', 'c', 'd'], dtype='object')\n"
     ]
    }
   ],
   "source": [
    "print(new_serie.index)"
   ]
  },
  {
   "cell_type": "markdown",
   "id": "94f4d22f-e6c9-4acb-8c69-7d648e4848b3",
   "metadata": {},
   "source": [
    "#### Obtaining the unique values in a Series and their count"
   ]
  },
  {
   "cell_type": "code",
   "execution_count": 145,
   "id": "8eaf77ba-b834-4abe-991f-7cec1a15126c",
   "metadata": {},
   "outputs": [
    {
     "name": "stdout",
     "output_type": "stream",
     "text": [
      "a    2\n",
      "b    1\n",
      "c    1\n",
      "dtype: int64\n"
     ]
    }
   ],
   "source": [
    "serieb = pd.Series(['a', 'b', 'a', 'c'])\n",
    "print(serieb.value_counts())"
   ]
  },
  {
   "cell_type": "markdown",
   "id": "b33bb536-9532-4fda-b87e-ae3db4700460",
   "metadata": {},
   "source": [
    "#### Method chaining for a Series"
   ]
  },
  {
   "cell_type": "code",
   "execution_count": 154,
   "id": "90e70bc6-9199-4831-bb1c-cd419d4e675b",
   "metadata": {},
   "outputs": [
    {
     "data": {
      "text/plain": [
       "array([1, 1])"
      ]
     },
     "execution_count": 154,
     "metadata": {},
     "output_type": "execute_result"
    }
   ],
   "source": [
    "sproduct.value_counts().head()\n",
    "sproduct.value_counts()\\\n",
    ".head(2)\\\n",
    ".values"
   ]
  },
  {
   "cell_type": "markdown",
   "id": "f6e981b1-09c8-4742-b76d-a223cb49ce26",
   "metadata": {},
   "source": [
    "### DataFrames "
   ]
  },
  {
   "cell_type": "markdown",
   "id": "0d392c73-5e40-4d42-a3b5-17fb80aff68c",
   "metadata": {},
   "source": [
    "#### Creating DataFrames"
   ]
  },
  {
   "cell_type": "code",
   "execution_count": 157,
   "id": "c8bff9d0-7a4d-4835-b5d3-87d7286ec48a",
   "metadata": {},
   "outputs": [
    {
     "data": {
      "text/html": [
       "<div>\n",
       "<style scoped>\n",
       "    .dataframe tbody tr th:only-of-type {\n",
       "        vertical-align: middle;\n",
       "    }\n",
       "\n",
       "    .dataframe tbody tr th {\n",
       "        vertical-align: top;\n",
       "    }\n",
       "\n",
       "    .dataframe thead th {\n",
       "        text-align: right;\n",
       "    }\n",
       "</style>\n",
       "<table border=\"1\" class=\"dataframe\">\n",
       "  <thead>\n",
       "    <tr style=\"text-align: right;\">\n",
       "      <th></th>\n",
       "      <th>class1</th>\n",
       "      <th>class2</th>\n",
       "      <th>class3</th>\n",
       "    </tr>\n",
       "  </thead>\n",
       "  <tbody>\n",
       "    <tr>\n",
       "      <th>0</th>\n",
       "      <td>22</td>\n",
       "      <td>24</td>\n",
       "      <td>20</td>\n",
       "    </tr>\n",
       "    <tr>\n",
       "      <th>1</th>\n",
       "      <td>40</td>\n",
       "      <td>50</td>\n",
       "      <td>45</td>\n",
       "    </tr>\n",
       "  </tbody>\n",
       "</table>\n",
       "</div>"
      ],
      "text/plain": [
       "   class1  class2  class3\n",
       "0      22      24      20\n",
       "1      40      50      45"
      ]
     },
     "execution_count": 157,
     "metadata": {},
     "output_type": "execute_result"
    }
   ],
   "source": [
    "student_ages = pd.Series([22, 24, 20])\n",
    "teacher_ages = pd.Series([40, 50, 45])\n",
    "df = pd.DataFrame([student_ages, teacher_ages])\n",
    "df.columns=['class1', 'class2', 'class3']\n",
    "df"
   ]
  }
 ],
 "metadata": {
  "kernelspec": {
   "display_name": "Python 3 (ipykernel)",
   "language": "python",
   "name": "python3"
  },
  "language_info": {
   "codemirror_mode": {
    "name": "ipython",
    "version": 3
   },
   "file_extension": ".py",
   "mimetype": "text/x-python",
   "name": "python",
   "nbconvert_exporter": "python",
   "pygments_lexer": "ipython3",
   "version": "3.10.8"
  },
  "toc-autonumbering": false
 },
 "nbformat": 4,
 "nbformat_minor": 5
}
